{
 "cells": [
  {
   "cell_type": "markdown",
   "metadata": {},
   "source": [
    "# **CUSTOMER CHURN PREDICTION**"
   ]
  },
  {
   "cell_type": "markdown",
   "metadata": {},
   "source": [
    "# Importing necessary libraries"
   ]
  },
  {
   "cell_type": "code",
   "execution_count": 1,
   "metadata": {
    "_cell_guid": "b1076dfc-b9ad-4769-8c92-a6c4dae69d19",
    "_uuid": "8f2839f25d086af736a60e9eeb907d3b93b6e0e5"
   },
   "outputs": [],
   "source": [
    "import numpy as np \n",
    "import pandas as pd \n",
    "import matplotlib.pyplot as plt\n",
    "import seaborn as sns\n",
    "from math import sqrt\n",
    "\n",
    "from sklearn.preprocessing import StandardScaler\n",
    "from sklearn.pipeline import make_pipeline\n",
    "from sklearn.model_selection import KFold,cross_val_predict,RandomizedSearchCV,cross_val_score\n",
    "from sklearn.neighbors import KNeighborsClassifier\n",
    "\n",
    "from sklearn.metrics import mean_squared_error, r2_score,confusion_matrix,accuracy_score,classification_report\n",
    "import xgboost as xgb\n",
    "\n",
    "import tensorflow as tf\n",
    "from tensorflow.keras import utils, Sequential\n",
    "from tensorflow.keras.layers import Dense, Activation,Dropout\n",
    "from tensorflow.keras.activations import relu, sigmoid\n",
    "\n",
    "from sklearn.ensemble import RandomForestClassifier\n",
    "from scipy.stats import randint\n",
    "\n"
   ]
  },
  {
   "cell_type": "code",
   "execution_count": 2,
   "metadata": {},
   "outputs": [
    {
     "data": {
      "text/html": [
       "<div>\n",
       "<style scoped>\n",
       "    .dataframe tbody tr th:only-of-type {\n",
       "        vertical-align: middle;\n",
       "    }\n",
       "\n",
       "    .dataframe tbody tr th {\n",
       "        vertical-align: top;\n",
       "    }\n",
       "\n",
       "    .dataframe thead th {\n",
       "        text-align: right;\n",
       "    }\n",
       "</style>\n",
       "<table border=\"1\" class=\"dataframe\">\n",
       "  <thead>\n",
       "    <tr style=\"text-align: right;\">\n",
       "      <th></th>\n",
       "      <th>RowNumber</th>\n",
       "      <th>CustomerId</th>\n",
       "      <th>Surname</th>\n",
       "      <th>CreditScore</th>\n",
       "      <th>Geography</th>\n",
       "      <th>Gender</th>\n",
       "      <th>Age</th>\n",
       "      <th>Tenure</th>\n",
       "      <th>Balance</th>\n",
       "      <th>NumOfProducts</th>\n",
       "      <th>HasCrCard</th>\n",
       "      <th>IsActiveMember</th>\n",
       "      <th>EstimatedSalary</th>\n",
       "      <th>Exited</th>\n",
       "    </tr>\n",
       "  </thead>\n",
       "  <tbody>\n",
       "    <tr>\n",
       "      <th>0</th>\n",
       "      <td>1</td>\n",
       "      <td>15634602</td>\n",
       "      <td>Hargrave</td>\n",
       "      <td>619</td>\n",
       "      <td>France</td>\n",
       "      <td>Female</td>\n",
       "      <td>42</td>\n",
       "      <td>2</td>\n",
       "      <td>0.00</td>\n",
       "      <td>1</td>\n",
       "      <td>1</td>\n",
       "      <td>1</td>\n",
       "      <td>101348.88</td>\n",
       "      <td>1</td>\n",
       "    </tr>\n",
       "    <tr>\n",
       "      <th>1</th>\n",
       "      <td>2</td>\n",
       "      <td>15647311</td>\n",
       "      <td>Hill</td>\n",
       "      <td>608</td>\n",
       "      <td>Spain</td>\n",
       "      <td>Female</td>\n",
       "      <td>41</td>\n",
       "      <td>1</td>\n",
       "      <td>83807.86</td>\n",
       "      <td>1</td>\n",
       "      <td>0</td>\n",
       "      <td>1</td>\n",
       "      <td>112542.58</td>\n",
       "      <td>0</td>\n",
       "    </tr>\n",
       "    <tr>\n",
       "      <th>2</th>\n",
       "      <td>3</td>\n",
       "      <td>15619304</td>\n",
       "      <td>Onio</td>\n",
       "      <td>502</td>\n",
       "      <td>France</td>\n",
       "      <td>Female</td>\n",
       "      <td>42</td>\n",
       "      <td>8</td>\n",
       "      <td>159660.80</td>\n",
       "      <td>3</td>\n",
       "      <td>1</td>\n",
       "      <td>0</td>\n",
       "      <td>113931.57</td>\n",
       "      <td>1</td>\n",
       "    </tr>\n",
       "    <tr>\n",
       "      <th>3</th>\n",
       "      <td>4</td>\n",
       "      <td>15701354</td>\n",
       "      <td>Boni</td>\n",
       "      <td>699</td>\n",
       "      <td>France</td>\n",
       "      <td>Female</td>\n",
       "      <td>39</td>\n",
       "      <td>1</td>\n",
       "      <td>0.00</td>\n",
       "      <td>2</td>\n",
       "      <td>0</td>\n",
       "      <td>0</td>\n",
       "      <td>93826.63</td>\n",
       "      <td>0</td>\n",
       "    </tr>\n",
       "    <tr>\n",
       "      <th>4</th>\n",
       "      <td>5</td>\n",
       "      <td>15737888</td>\n",
       "      <td>Mitchell</td>\n",
       "      <td>850</td>\n",
       "      <td>Spain</td>\n",
       "      <td>Female</td>\n",
       "      <td>43</td>\n",
       "      <td>2</td>\n",
       "      <td>125510.82</td>\n",
       "      <td>1</td>\n",
       "      <td>1</td>\n",
       "      <td>1</td>\n",
       "      <td>79084.10</td>\n",
       "      <td>0</td>\n",
       "    </tr>\n",
       "    <tr>\n",
       "      <th>...</th>\n",
       "      <td>...</td>\n",
       "      <td>...</td>\n",
       "      <td>...</td>\n",
       "      <td>...</td>\n",
       "      <td>...</td>\n",
       "      <td>...</td>\n",
       "      <td>...</td>\n",
       "      <td>...</td>\n",
       "      <td>...</td>\n",
       "      <td>...</td>\n",
       "      <td>...</td>\n",
       "      <td>...</td>\n",
       "      <td>...</td>\n",
       "      <td>...</td>\n",
       "    </tr>\n",
       "    <tr>\n",
       "      <th>9995</th>\n",
       "      <td>9996</td>\n",
       "      <td>15606229</td>\n",
       "      <td>Obijiaku</td>\n",
       "      <td>771</td>\n",
       "      <td>France</td>\n",
       "      <td>Male</td>\n",
       "      <td>39</td>\n",
       "      <td>5</td>\n",
       "      <td>0.00</td>\n",
       "      <td>2</td>\n",
       "      <td>1</td>\n",
       "      <td>0</td>\n",
       "      <td>96270.64</td>\n",
       "      <td>0</td>\n",
       "    </tr>\n",
       "    <tr>\n",
       "      <th>9996</th>\n",
       "      <td>9997</td>\n",
       "      <td>15569892</td>\n",
       "      <td>Johnstone</td>\n",
       "      <td>516</td>\n",
       "      <td>France</td>\n",
       "      <td>Male</td>\n",
       "      <td>35</td>\n",
       "      <td>10</td>\n",
       "      <td>57369.61</td>\n",
       "      <td>1</td>\n",
       "      <td>1</td>\n",
       "      <td>1</td>\n",
       "      <td>101699.77</td>\n",
       "      <td>0</td>\n",
       "    </tr>\n",
       "    <tr>\n",
       "      <th>9997</th>\n",
       "      <td>9998</td>\n",
       "      <td>15584532</td>\n",
       "      <td>Liu</td>\n",
       "      <td>709</td>\n",
       "      <td>France</td>\n",
       "      <td>Female</td>\n",
       "      <td>36</td>\n",
       "      <td>7</td>\n",
       "      <td>0.00</td>\n",
       "      <td>1</td>\n",
       "      <td>0</td>\n",
       "      <td>1</td>\n",
       "      <td>42085.58</td>\n",
       "      <td>1</td>\n",
       "    </tr>\n",
       "    <tr>\n",
       "      <th>9998</th>\n",
       "      <td>9999</td>\n",
       "      <td>15682355</td>\n",
       "      <td>Sabbatini</td>\n",
       "      <td>772</td>\n",
       "      <td>Germany</td>\n",
       "      <td>Male</td>\n",
       "      <td>42</td>\n",
       "      <td>3</td>\n",
       "      <td>75075.31</td>\n",
       "      <td>2</td>\n",
       "      <td>1</td>\n",
       "      <td>0</td>\n",
       "      <td>92888.52</td>\n",
       "      <td>1</td>\n",
       "    </tr>\n",
       "    <tr>\n",
       "      <th>9999</th>\n",
       "      <td>10000</td>\n",
       "      <td>15628319</td>\n",
       "      <td>Walker</td>\n",
       "      <td>792</td>\n",
       "      <td>France</td>\n",
       "      <td>Female</td>\n",
       "      <td>28</td>\n",
       "      <td>4</td>\n",
       "      <td>130142.79</td>\n",
       "      <td>1</td>\n",
       "      <td>1</td>\n",
       "      <td>0</td>\n",
       "      <td>38190.78</td>\n",
       "      <td>0</td>\n",
       "    </tr>\n",
       "  </tbody>\n",
       "</table>\n",
       "<p>10000 rows × 14 columns</p>\n",
       "</div>"
      ],
      "text/plain": [
       "      RowNumber  CustomerId    Surname  CreditScore Geography  Gender  Age  \\\n",
       "0             1    15634602   Hargrave          619    France  Female   42   \n",
       "1             2    15647311       Hill          608     Spain  Female   41   \n",
       "2             3    15619304       Onio          502    France  Female   42   \n",
       "3             4    15701354       Boni          699    France  Female   39   \n",
       "4             5    15737888   Mitchell          850     Spain  Female   43   \n",
       "...         ...         ...        ...          ...       ...     ...  ...   \n",
       "9995       9996    15606229   Obijiaku          771    France    Male   39   \n",
       "9996       9997    15569892  Johnstone          516    France    Male   35   \n",
       "9997       9998    15584532        Liu          709    France  Female   36   \n",
       "9998       9999    15682355  Sabbatini          772   Germany    Male   42   \n",
       "9999      10000    15628319     Walker          792    France  Female   28   \n",
       "\n",
       "      Tenure    Balance  NumOfProducts  HasCrCard  IsActiveMember  \\\n",
       "0          2       0.00              1          1               1   \n",
       "1          1   83807.86              1          0               1   \n",
       "2          8  159660.80              3          1               0   \n",
       "3          1       0.00              2          0               0   \n",
       "4          2  125510.82              1          1               1   \n",
       "...      ...        ...            ...        ...             ...   \n",
       "9995       5       0.00              2          1               0   \n",
       "9996      10   57369.61              1          1               1   \n",
       "9997       7       0.00              1          0               1   \n",
       "9998       3   75075.31              2          1               0   \n",
       "9999       4  130142.79              1          1               0   \n",
       "\n",
       "      EstimatedSalary  Exited  \n",
       "0           101348.88       1  \n",
       "1           112542.58       0  \n",
       "2           113931.57       1  \n",
       "3            93826.63       0  \n",
       "4            79084.10       0  \n",
       "...               ...     ...  \n",
       "9995         96270.64       0  \n",
       "9996        101699.77       0  \n",
       "9997         42085.58       1  \n",
       "9998         92888.52       1  \n",
       "9999         38190.78       0  \n",
       "\n",
       "[10000 rows x 14 columns]"
      ]
     },
     "execution_count": 2,
     "metadata": {},
     "output_type": "execute_result"
    }
   ],
   "source": [
    "df = pd.read_csv('archive/Churn_Modelling.csv')\n",
    "df"
   ]
  },
  {
   "cell_type": "code",
   "execution_count": 3,
   "metadata": {},
   "outputs": [
    {
     "data": {
      "text/plain": [
       "RowNumber          10000\n",
       "CustomerId         10000\n",
       "Surname             2932\n",
       "CreditScore          460\n",
       "Geography              3\n",
       "Gender                 2\n",
       "Age                   70\n",
       "Tenure                11\n",
       "Balance             6382\n",
       "NumOfProducts          4\n",
       "HasCrCard              2\n",
       "IsActiveMember         2\n",
       "EstimatedSalary     9999\n",
       "Exited                 2\n",
       "dtype: int64"
      ]
     },
     "execution_count": 3,
     "metadata": {},
     "output_type": "execute_result"
    }
   ],
   "source": [
    "df.nunique()\n"
   ]
  },
  {
   "cell_type": "code",
   "execution_count": 4,
   "metadata": {},
   "outputs": [
    {
     "data": {
      "text/html": [
       "<div>\n",
       "<style scoped>\n",
       "    .dataframe tbody tr th:only-of-type {\n",
       "        vertical-align: middle;\n",
       "    }\n",
       "\n",
       "    .dataframe tbody tr th {\n",
       "        vertical-align: top;\n",
       "    }\n",
       "\n",
       "    .dataframe thead th {\n",
       "        text-align: right;\n",
       "    }\n",
       "</style>\n",
       "<table border=\"1\" class=\"dataframe\">\n",
       "  <thead>\n",
       "    <tr style=\"text-align: right;\">\n",
       "      <th></th>\n",
       "      <th>RowNumber</th>\n",
       "      <th>CustomerId</th>\n",
       "      <th>CreditScore</th>\n",
       "      <th>Age</th>\n",
       "      <th>Tenure</th>\n",
       "      <th>Balance</th>\n",
       "      <th>NumOfProducts</th>\n",
       "      <th>HasCrCard</th>\n",
       "      <th>IsActiveMember</th>\n",
       "      <th>EstimatedSalary</th>\n",
       "      <th>Exited</th>\n",
       "    </tr>\n",
       "  </thead>\n",
       "  <tbody>\n",
       "    <tr>\n",
       "      <th>count</th>\n",
       "      <td>10000.00000</td>\n",
       "      <td>1.000000e+04</td>\n",
       "      <td>10000.000000</td>\n",
       "      <td>10000.000000</td>\n",
       "      <td>10000.000000</td>\n",
       "      <td>10000.000000</td>\n",
       "      <td>10000.000000</td>\n",
       "      <td>10000.00000</td>\n",
       "      <td>10000.000000</td>\n",
       "      <td>10000.000000</td>\n",
       "      <td>10000.000000</td>\n",
       "    </tr>\n",
       "    <tr>\n",
       "      <th>mean</th>\n",
       "      <td>5000.50000</td>\n",
       "      <td>1.569094e+07</td>\n",
       "      <td>650.528800</td>\n",
       "      <td>38.921800</td>\n",
       "      <td>5.012800</td>\n",
       "      <td>76485.889288</td>\n",
       "      <td>1.530200</td>\n",
       "      <td>0.70550</td>\n",
       "      <td>0.515100</td>\n",
       "      <td>100090.239881</td>\n",
       "      <td>0.203700</td>\n",
       "    </tr>\n",
       "    <tr>\n",
       "      <th>std</th>\n",
       "      <td>2886.89568</td>\n",
       "      <td>7.193619e+04</td>\n",
       "      <td>96.653299</td>\n",
       "      <td>10.487806</td>\n",
       "      <td>2.892174</td>\n",
       "      <td>62397.405202</td>\n",
       "      <td>0.581654</td>\n",
       "      <td>0.45584</td>\n",
       "      <td>0.499797</td>\n",
       "      <td>57510.492818</td>\n",
       "      <td>0.402769</td>\n",
       "    </tr>\n",
       "    <tr>\n",
       "      <th>min</th>\n",
       "      <td>1.00000</td>\n",
       "      <td>1.556570e+07</td>\n",
       "      <td>350.000000</td>\n",
       "      <td>18.000000</td>\n",
       "      <td>0.000000</td>\n",
       "      <td>0.000000</td>\n",
       "      <td>1.000000</td>\n",
       "      <td>0.00000</td>\n",
       "      <td>0.000000</td>\n",
       "      <td>11.580000</td>\n",
       "      <td>0.000000</td>\n",
       "    </tr>\n",
       "    <tr>\n",
       "      <th>25%</th>\n",
       "      <td>2500.75000</td>\n",
       "      <td>1.562853e+07</td>\n",
       "      <td>584.000000</td>\n",
       "      <td>32.000000</td>\n",
       "      <td>3.000000</td>\n",
       "      <td>0.000000</td>\n",
       "      <td>1.000000</td>\n",
       "      <td>0.00000</td>\n",
       "      <td>0.000000</td>\n",
       "      <td>51002.110000</td>\n",
       "      <td>0.000000</td>\n",
       "    </tr>\n",
       "    <tr>\n",
       "      <th>50%</th>\n",
       "      <td>5000.50000</td>\n",
       "      <td>1.569074e+07</td>\n",
       "      <td>652.000000</td>\n",
       "      <td>37.000000</td>\n",
       "      <td>5.000000</td>\n",
       "      <td>97198.540000</td>\n",
       "      <td>1.000000</td>\n",
       "      <td>1.00000</td>\n",
       "      <td>1.000000</td>\n",
       "      <td>100193.915000</td>\n",
       "      <td>0.000000</td>\n",
       "    </tr>\n",
       "    <tr>\n",
       "      <th>75%</th>\n",
       "      <td>7500.25000</td>\n",
       "      <td>1.575323e+07</td>\n",
       "      <td>718.000000</td>\n",
       "      <td>44.000000</td>\n",
       "      <td>7.000000</td>\n",
       "      <td>127644.240000</td>\n",
       "      <td>2.000000</td>\n",
       "      <td>1.00000</td>\n",
       "      <td>1.000000</td>\n",
       "      <td>149388.247500</td>\n",
       "      <td>0.000000</td>\n",
       "    </tr>\n",
       "    <tr>\n",
       "      <th>max</th>\n",
       "      <td>10000.00000</td>\n",
       "      <td>1.581569e+07</td>\n",
       "      <td>850.000000</td>\n",
       "      <td>92.000000</td>\n",
       "      <td>10.000000</td>\n",
       "      <td>250898.090000</td>\n",
       "      <td>4.000000</td>\n",
       "      <td>1.00000</td>\n",
       "      <td>1.000000</td>\n",
       "      <td>199992.480000</td>\n",
       "      <td>1.000000</td>\n",
       "    </tr>\n",
       "  </tbody>\n",
       "</table>\n",
       "</div>"
      ],
      "text/plain": [
       "         RowNumber    CustomerId   CreditScore           Age        Tenure  \\\n",
       "count  10000.00000  1.000000e+04  10000.000000  10000.000000  10000.000000   \n",
       "mean    5000.50000  1.569094e+07    650.528800     38.921800      5.012800   \n",
       "std     2886.89568  7.193619e+04     96.653299     10.487806      2.892174   \n",
       "min        1.00000  1.556570e+07    350.000000     18.000000      0.000000   \n",
       "25%     2500.75000  1.562853e+07    584.000000     32.000000      3.000000   \n",
       "50%     5000.50000  1.569074e+07    652.000000     37.000000      5.000000   \n",
       "75%     7500.25000  1.575323e+07    718.000000     44.000000      7.000000   \n",
       "max    10000.00000  1.581569e+07    850.000000     92.000000     10.000000   \n",
       "\n",
       "             Balance  NumOfProducts    HasCrCard  IsActiveMember  \\\n",
       "count   10000.000000   10000.000000  10000.00000    10000.000000   \n",
       "mean    76485.889288       1.530200      0.70550        0.515100   \n",
       "std     62397.405202       0.581654      0.45584        0.499797   \n",
       "min         0.000000       1.000000      0.00000        0.000000   \n",
       "25%         0.000000       1.000000      0.00000        0.000000   \n",
       "50%     97198.540000       1.000000      1.00000        1.000000   \n",
       "75%    127644.240000       2.000000      1.00000        1.000000   \n",
       "max    250898.090000       4.000000      1.00000        1.000000   \n",
       "\n",
       "       EstimatedSalary        Exited  \n",
       "count     10000.000000  10000.000000  \n",
       "mean     100090.239881      0.203700  \n",
       "std       57510.492818      0.402769  \n",
       "min          11.580000      0.000000  \n",
       "25%       51002.110000      0.000000  \n",
       "50%      100193.915000      0.000000  \n",
       "75%      149388.247500      0.000000  \n",
       "max      199992.480000      1.000000  "
      ]
     },
     "execution_count": 4,
     "metadata": {},
     "output_type": "execute_result"
    }
   ],
   "source": [
    "df.describe()"
   ]
  },
  {
   "cell_type": "code",
   "execution_count": 5,
   "metadata": {},
   "outputs": [
    {
     "data": {
      "text/plain": [
       "RowNumber          0\n",
       "CustomerId         0\n",
       "Surname            0\n",
       "CreditScore        0\n",
       "Geography          0\n",
       "Gender             0\n",
       "Age                0\n",
       "Tenure             0\n",
       "Balance            0\n",
       "NumOfProducts      0\n",
       "HasCrCard          0\n",
       "IsActiveMember     0\n",
       "EstimatedSalary    0\n",
       "Exited             0\n",
       "dtype: int64"
      ]
     },
     "execution_count": 5,
     "metadata": {},
     "output_type": "execute_result"
    }
   ],
   "source": [
    "df.isnull().sum()"
   ]
  },
  {
   "cell_type": "markdown",
   "metadata": {},
   "source": [
    "No missing values present."
   ]
  },
  {
   "cell_type": "code",
   "execution_count": 6,
   "metadata": {},
   "outputs": [
    {
     "data": {
      "text/plain": [
       "Exited\n",
       "0    7963\n",
       "1    2037\n",
       "Name: count, dtype: int64"
      ]
     },
     "execution_count": 6,
     "metadata": {},
     "output_type": "execute_result"
    }
   ],
   "source": [
    "df['Exited'].value_counts()"
   ]
  },
  {
   "cell_type": "code",
   "execution_count": 7,
   "metadata": {},
   "outputs": [
    {
     "data": {
      "text/plain": [
       "RowNumber            int64\n",
       "CustomerId           int64\n",
       "Surname             object\n",
       "CreditScore          int64\n",
       "Geography           object\n",
       "Gender              object\n",
       "Age                  int64\n",
       "Tenure               int64\n",
       "Balance            float64\n",
       "NumOfProducts        int64\n",
       "HasCrCard            int64\n",
       "IsActiveMember       int64\n",
       "EstimatedSalary    float64\n",
       "Exited               int64\n",
       "dtype: object"
      ]
     },
     "execution_count": 7,
     "metadata": {},
     "output_type": "execute_result"
    }
   ],
   "source": [
    "df.dtypes"
   ]
  },
  {
   "cell_type": "markdown",
   "metadata": {},
   "source": [
    "# EDA"
   ]
  },
  {
   "cell_type": "code",
   "execution_count": 8,
   "metadata": {},
   "outputs": [
    {
     "data": {
      "image/png": "[encoded data removed]",
      "text/plain": [
       "<Figure size 1600x900 with 2 Axes>"
      ]
     },
     "metadata": {},
     "output_type": "display_data"
    }
   ],
   "source": [
    "numeric_columns = df.select_dtypes(include=['number'])\n",
    "corr = numeric_columns.corr()\n",
    "plt.figure(figsize = [16,9])\n",
    "plt.title(\"Correlation between numerical features\", size = 25, pad = 20)\n",
    "sns.heatmap(corr, annot = True)\n",
    "plt.show()"
   ]
  },
  {
   "cell_type": "markdown",
   "metadata": {},
   "source": [
    "**Age and Balance are positively correlated with Exited feature. \n",
    "IsActiveMember is negatively correlated with Exited.**"
   ]
  },
  {
   "cell_type": "code",
   "execution_count": 9,
   "metadata": {},
   "outputs": [
    {
     "data": {
      "text/plain": [
       "Text(0.5, 1.0, 'Genders Vs Customers')"
      ]
     },
     "execution_count": 9,
     "metadata": {},
     "output_type": "execute_result"
    },
    {
     "data": {
      "image/png": "[encoded data removed]",
      "text/plain": [
       "<Figure size 640x480 with 1 Axes>"
      ]
     },
     "metadata": {},
     "output_type": "display_data"
    }
   ],
   "source": [
    "sns.countplot(x='Gender',hue='Exited',data=df)\n",
    "plt.xlabel('Gender')\n",
    "plt.ylabel('Numbers of Customers')\n",
    "plt.title(\"Genders Vs Customers\")"
   ]
  },
  {
   "cell_type": "markdown",
   "metadata": {},
   "source": [
    "**Although the majority of customers are male, there isn't a significant gender-based difference in terms of churning.**"
   ]
  },
  {
   "cell_type": "code",
   "execution_count": 10,
   "metadata": {},
   "outputs": [
    {
     "data": {
      "text/plain": [
       "Text(0.5, 1.0, 'Geography Vs Customers')"
      ]
     },
     "execution_count": 10,
     "metadata": {},
     "output_type": "execute_result"
    },
    {
     "data": {
      "image/png": "[encoded data removed]",
      "text/plain": [
       "<Figure size 640x480 with 1 Axes>"
      ]
     },
     "metadata": {},
     "output_type": "display_data"
    }
   ],
   "source": [
    "sns.countplot(x='Geography',hue='Exited',data=df)\n",
    "plt.xlabel('Geography')\n",
    "plt.ylabel('Numbers of Customers')\n",
    "plt.title(\"Geography Vs Customers\")"
   ]
  },
  {
   "cell_type": "markdown",
   "metadata": {},
   "source": [
    "**Most of the customers are from France.\n",
    "Germans and French are more likely to exit.**"
   ]
  },
  {
   "cell_type": "markdown",
   "metadata": {},
   "source": [
    "# Data preprocessing"
   ]
  },
  {
   "cell_type": "code",
   "execution_count": 11,
   "metadata": {},
   "outputs": [
    {
     "data": {
      "text/plain": [
       "CreditScore         460\n",
       "Geography             3\n",
       "Gender                2\n",
       "Age                  70\n",
       "Tenure               11\n",
       "Balance            6382\n",
       "NumOfProducts         4\n",
       "HasCrCard             2\n",
       "IsActiveMember        2\n",
       "EstimatedSalary    9999\n",
       "Exited                2\n",
       "dtype: int64"
      ]
     },
     "execution_count": 11,
     "metadata": {},
     "output_type": "execute_result"
    }
   ],
   "source": [
    "df.drop(columns=['Surname', 'CustomerId', 'RowNumber'], inplace=True)\n",
    "df.nunique()"
   ]
  },
  {
   "cell_type": "markdown",
   "metadata": {},
   "source": [
    "**Bar Chart of correlation of different features with \"Exited\" feature**"
   ]
  },
  {
   "cell_type": "code",
   "execution_count": 12,
   "metadata": {},
   "outputs": [
    {
     "data": {
      "image/png": "[encoded data removed]",
      "text/plain": [
       "<Figure size 1600x900 with 1 Axes>"
      ]
     },
     "metadata": {},
     "output_type": "display_data"
    }
   ],
   "source": [
    "feature_corr = df.drop(columns='Exited').select_dtypes('number').apply(lambda x: x.corr(df['Exited']))\n",
    "feature_corr = pd.DataFrame(feature_corr,columns = ['Correlation']).sort_values(['Correlation'],ascending = False)\n",
    "plt.figure(figsize=(16,9))\n",
    "sns.barplot(x=feature_corr['Correlation'], y=feature_corr.index).set(\n",
    "title=\"Correlation of Numeric Features with Churned or not \", xlabel=\"Correlation\",\n",
    "ylabel=\"Feature Names\")\n",
    "plt.show()"
   ]
  },
  {
   "cell_type": "markdown",
   "metadata": {},
   "source": [
    "**Converting into Range of values for some Numerical features**"
   ]
  },
  {
   "cell_type": "markdown",
   "metadata": {},
   "source": [
    "**TENURE**"
   ]
  },
  {
   "cell_type": "code",
   "execution_count": 13,
   "metadata": {},
   "outputs": [
    {
     "data": {
      "text/plain": [
       "Tenure\n",
       "2     1048\n",
       "1     1035\n",
       "7     1028\n",
       "8     1025\n",
       "5     1012\n",
       "3     1009\n",
       "4      989\n",
       "9      984\n",
       "6      967\n",
       "10     490\n",
       "0      413\n",
       "Name: count, dtype: int64"
      ]
     },
     "execution_count": 13,
     "metadata": {},
     "output_type": "execute_result"
    }
   ],
   "source": [
    "df.Tenure.value_counts()"
   ]
  },
  {
   "cell_type": "code",
   "execution_count": 14,
   "metadata": {},
   "outputs": [
    {
     "data": {
      "text/plain": [
       "['0 - 2', '2 - 4', '4 - 6', '6 - 8', '8 - 10', '10 - 12']"
      ]
     },
     "execution_count": 14,
     "metadata": {},
     "output_type": "execute_result"
    }
   ],
   "source": [
    "labels = [\"{0} - {1}\".format(i,i+2) for i in range(0,11,2) ]\n",
    "labels"
   ]
  },
  {
   "cell_type": "code",
   "execution_count": 15,
   "metadata": {},
   "outputs": [
    {
     "data": {
      "text/plain": [
       "Text(0.5, 1.0, 'Tenure Vs Churning')"
      ]
     },
     "execution_count": 15,
     "metadata": {},
     "output_type": "execute_result"
    },
    {
     "data": {
      "image/png": "[encoded data removed]",
      "text/plain": [
       "<Figure size 640x480 with 1 Axes>"
      ]
     },
     "metadata": {},
     "output_type": "display_data"
    }
   ],
   "source": [
    "df[\"TenureGroup\"] = pd.cut(df['Tenure'],range(0,13,2),labels =labels,right=False)\n",
    "sns.countplot(x='TenureGroup',hue='Exited',data=df)\n",
    "plt.xlabel('Tenure')\n",
    "plt.ylabel('Numbers of Customers')\n",
    "plt.title(\"Tenure Vs Churning\")"
   ]
  },
  {
   "cell_type": "markdown",
   "metadata": {},
   "source": [
    "**AGE**"
   ]
  },
  {
   "cell_type": "code",
   "execution_count": 16,
   "metadata": {},
   "outputs": [
    {
     "data": {
      "text/plain": [
       "92"
      ]
     },
     "execution_count": 16,
     "metadata": {},
     "output_type": "execute_result"
    }
   ],
   "source": [
    "df.Age.max()"
   ]
  },
  {
   "cell_type": "code",
   "execution_count": 17,
   "metadata": {},
   "outputs": [
    {
     "data": {
      "text/plain": [
       "Text(0.5, 1.0, 'Age Vs Churning')"
      ]
     },
     "execution_count": 17,
     "metadata": {},
     "output_type": "execute_result"
    },
    {
     "data": {
      "image/png": "[encoded data removed]",
      "text/plain": [
       "<Figure size 640x480 with 1 Axes>"
      ]
     },
     "metadata": {},
     "output_type": "display_data"
    }
   ],
   "source": [
    "label = [\"{0} - {1}\".format(i,i+5) for i in range(18,93,5)]\n",
    "df[\"AgeGroup\"]=pd.cut(df['Age'],range(18,94,5),labels=label,right=False)\n",
    "sns.countplot(x='AgeGroup',hue='Exited',data=df)\n",
    "plt.xlabel('Age')\n",
    "plt.xticks(rotation = 45)\n",
    "plt.ylabel('Numbers of Customers')\n",
    "plt.title(\"Age Vs Churning\")"
   ]
  },
  {
   "cell_type": "markdown",
   "metadata": {},
   "source": [
    "People from age group 43-48 are most likely to churn."
   ]
  },
  {
   "cell_type": "code",
   "execution_count": 18,
   "metadata": {},
   "outputs": [],
   "source": [
    "df.drop(columns=['Age',\"Tenure\"],inplace=True)"
   ]
  },
  {
   "cell_type": "markdown",
   "metadata": {},
   "source": [
    "**One hot encoding of some categorical variables**"
   ]
  },
  {
   "cell_type": "code",
   "execution_count": 19,
   "metadata": {},
   "outputs": [],
   "source": [
    "df = pd.get_dummies(df, columns=['Geography', 'Gender','TenureGroup','AgeGroup'], drop_first=True)"
   ]
  },
  {
   "cell_type": "markdown",
   "metadata": {},
   "source": [
    "**Scaling numerical features because they have widely different range.**"
   ]
  },
  {
   "cell_type": "code",
   "execution_count": 20,
   "metadata": {},
   "outputs": [],
   "source": [
    "ss = StandardScaler()\n",
    "numeric_columns = ['CreditScore','Balance','EstimatedSalary']\n",
    "df[numeric_columns] = ss.fit_transform(df[numeric_columns])"
   ]
  },
  {
   "cell_type": "code",
   "execution_count": 21,
   "metadata": {},
   "outputs": [],
   "source": [
    "X=df.drop(columns = ['Exited'])\n",
    "y=df['Exited']"
   ]
  },
  {
   "cell_type": "markdown",
   "metadata": {},
   "source": [
    "# Training initial models "
   ]
  },
  {
   "cell_type": "code",
   "execution_count": 22,
   "metadata": {},
   "outputs": [
    {
     "name": "stdout",
     "output_type": "stream",
     "text": [
      "(7000, 28)\n",
      "(3000, 28)\n"
     ]
    }
   ],
   "source": [
    "from sklearn.model_selection import train_test_split\n",
    "X_train,X_test,y_train,y_test=train_test_split(X,y,test_size=0.3,random_state=420)\n",
    "print(X_train.shape)\n",
    "print(X_test.shape)"
   ]
  },
  {
   "cell_type": "code",
   "execution_count": 23,
   "metadata": {},
   "outputs": [
    {
     "name": "stdout",
     "output_type": "stream",
     "text": [
      "Accuracy: 0.851\n",
      "\n",
      "Confusion Matrix:\n",
      " [[2277  121]\n",
      " [ 326  276]]\n",
      "\n",
      "Classification Report:\n",
      "               precision    recall  f1-score   support\n",
      "\n",
      "           0       0.87      0.95      0.91      2398\n",
      "           1       0.70      0.46      0.55       602\n",
      "\n",
      "    accuracy                           0.85      3000\n",
      "   macro avg       0.78      0.70      0.73      3000\n",
      "weighted avg       0.84      0.85      0.84      3000\n",
      "\n"
     ]
    }
   ],
   "source": [
    "rf=RandomForestClassifier()\n",
    "rf.fit(X_train,y_train)\n",
    "y_pred = rf.predict(X_test)\n",
    "accuracy = accuracy_score(y_test, y_pred)\n",
    "conf_matrix = confusion_matrix(y_test, y_pred)\n",
    "classification_rep = classification_report(y_test, y_pred)\n",
    "print(\"Accuracy:\", accuracy)\n",
    "print(\"\\nConfusion Matrix:\\n\", conf_matrix)\n",
    "print(\"\\nClassification Report:\\n\", classification_rep)"
   ]
  },
  {
   "cell_type": "code",
   "execution_count": 24,
   "metadata": {},
   "outputs": [
    {
     "name": "stdout",
     "output_type": "stream",
     "text": [
      "Accuracy: 0.8493333333333334\n",
      "\n",
      "Confusion Matrix:\n",
      " [[2260  138]\n",
      " [ 314  288]]\n",
      "\n",
      "Classification Report:\n",
      "               precision    recall  f1-score   support\n",
      "\n",
      "           0       0.88      0.94      0.91      2398\n",
      "           1       0.68      0.48      0.56       602\n",
      "\n",
      "    accuracy                           0.85      3000\n",
      "   macro avg       0.78      0.71      0.73      3000\n",
      "weighted avg       0.84      0.85      0.84      3000\n",
      "\n"
     ]
    }
   ],
   "source": [
    "xgb_c = xgb.XGBClassifier()\n",
    "xgb_c.fit(X_train,y_train)\n",
    "y_pred_x = xgb_c.predict(X_test)\n",
    "accuracy = accuracy_score(y_test, y_pred_x)\n",
    "conf_matrix = confusion_matrix(y_test, y_pred_x)\n",
    "classification_rep = classification_report(y_test, y_pred_x)\n",
    "print(\"Accuracy:\", accuracy)\n",
    "print(\"\\nConfusion Matrix:\\n\", conf_matrix)\n",
    "print(\"\\nClassification Report:\\n\", classification_rep)"
   ]
  },
  {
   "cell_type": "markdown",
   "metadata": {},
   "source": [
    "# Neural Network"
   ]
  },
  {
   "cell_type": "code",
   "execution_count": 25,
   "metadata": {},
   "outputs": [
    {
     "data": {
      "text/plain": [
       "CreditScore            float64\n",
       "Balance                float64\n",
       "NumOfProducts            int64\n",
       "HasCrCard                int64\n",
       "IsActiveMember           int64\n",
       "EstimatedSalary        float64\n",
       "Geography_Germany         bool\n",
       "Geography_Spain           bool\n",
       "Gender_Male               bool\n",
       "TenureGroup_2 - 4         bool\n",
       "TenureGroup_4 - 6         bool\n",
       "TenureGroup_6 - 8         bool\n",
       "TenureGroup_8 - 10        bool\n",
       "TenureGroup_10 - 12       bool\n",
       "AgeGroup_23 - 28          bool\n",
       "AgeGroup_28 - 33          bool\n",
       "AgeGroup_33 - 38          bool\n",
       "AgeGroup_38 - 43          bool\n",
       "AgeGroup_43 - 48          bool\n",
       "AgeGroup_48 - 53          bool\n",
       "AgeGroup_53 - 58          bool\n",
       "AgeGroup_58 - 63          bool\n",
       "AgeGroup_63 - 68          bool\n",
       "AgeGroup_68 - 73          bool\n",
       "AgeGroup_73 - 78          bool\n",
       "AgeGroup_78 - 83          bool\n",
       "AgeGroup_83 - 88          bool\n",
       "AgeGroup_88 - 93          bool\n",
       "dtype: object"
      ]
     },
     "execution_count": 25,
     "metadata": {},
     "output_type": "execute_result"
    }
   ],
   "source": [
    "X_train.dtypes"
   ]
  },
  {
   "cell_type": "code",
   "execution_count": 26,
   "metadata": {},
   "outputs": [
    {
     "data": {
      "text/plain": [
       "dtype('int64')"
      ]
     },
     "execution_count": 26,
     "metadata": {},
     "output_type": "execute_result"
    }
   ],
   "source": [
    "y_train.dtypes"
   ]
  },
  {
   "cell_type": "code",
   "execution_count": 27,
   "metadata": {},
   "outputs": [
    {
     "name": "stdout",
     "output_type": "stream",
     "text": [
      "94/94 [==============================] - 0s 2ms/step\n",
      "Accuracy: 0.8526666666666667\n",
      "\n",
      "Confusion Matrix:\n",
      " [[2275  123]\n",
      " [ 319  283]]\n",
      "\n",
      "Classification Report:\n",
      "               precision    recall  f1-score   support\n",
      "\n",
      "           0       0.88      0.95      0.91      2398\n",
      "           1       0.70      0.47      0.56       602\n",
      "\n",
      "    accuracy                           0.85      3000\n",
      "   macro avg       0.79      0.71      0.74      3000\n",
      "weighted avg       0.84      0.85      0.84      3000\n",
      "\n"
     ]
    }
   ],
   "source": [
    "X_train = X_train.astype(int)  \n",
    "X_test = X_test.astype(int)  \n",
    "\n",
    "model = Sequential()\n",
    "model.add(Dense(units=6, activation='relu', input_dim=X_train.shape[1]))\n",
    "model.add(Dense(units=6, activation='relu'))\n",
    "model.add(Dense(units=1, activation='sigmoid'))\n",
    "\n",
    "model.compile(optimizer='adam', loss='binary_crossentropy', metrics=['accuracy'])\n",
    "\n",
    "model.fit(X_train, y_train, epochs=100, batch_size=10, validation_split=0.1, verbose=0)\n",
    "\n",
    "y_pred_prob = model.predict(X_test)\n",
    "y_pred_nn = (y_pred_prob > 0.5).astype(int)\n",
    "\n",
    "accuracy = accuracy_score(y_test, y_pred_nn)\n",
    "conf_matrix = confusion_matrix(y_test, y_pred_nn)\n",
    "classification_rep = classification_report(y_test, y_pred_nn)\n",
    "\n",
    "print(\"Accuracy:\", accuracy)\n",
    "print(\"\\nConfusion Matrix:\\n\", conf_matrix)\n",
    "print(\"\\nClassification Report:\\n\", classification_rep)"
   ]
  },
  {
   "cell_type": "markdown",
   "metadata": {},
   "source": [
    "# Hyperparameter Optimization"
   ]
  },
  {
   "cell_type": "markdown",
   "metadata": {},
   "source": [
    "**Random Forest Classifier Hyperparameter Optimization**"
   ]
  },
  {
   "cell_type": "code",
   "execution_count": 28,
   "metadata": {},
   "outputs": [
    {
     "name": "stdout",
     "output_type": "stream",
     "text": [
      "Fitting 5 folds for each of 50 candidates, totalling 250 fits\n"
     ]
    },
    {
     "data": {
      "text/html": [
       "<style>#sk-container-id-1 {color: black;}#sk-container-id-1 pre{padding: 0;}#sk-container-id-1 div.sk-toggleable {background-color: white;}#sk-container-id-1 label.sk-toggleable__label {cursor: pointer;display: block;width: 100%;margin-bottom: 0;padding: 0.3em;box-sizing: border-box;text-align: center;}#sk-container-id-1 label.sk-toggleable__label-arrow:before {content: \"▸\";float: left;margin-right: 0.25em;color: #696969;}#sk-container-id-1 label.sk-toggleable__label-arrow:hover:before {color: black;}#sk-container-id-1 div.sk-estimator:hover label.sk-toggleable__label-arrow:before {color: black;}#sk-container-id-1 div.sk-toggleable__content {max-height: 0;max-width: 0;overflow: hidden;text-align: left;background-color: #f0f8ff;}#sk-container-id-1 div.sk-toggleable__content pre {margin: 0.2em;color: black;border-radius: 0.25em;background-color: #f0f8ff;}#sk-container-id-1 input.sk-toggleable__control:checked~div.sk-toggleable__content {max-height: 200px;max-width: 100%;overflow: auto;}#sk-container-id-1 input.sk-toggleable__control:checked~label.sk-toggleable__label-arrow:before {content: \"▾\";}#sk-container-id-1 div.sk-estimator input.sk-toggleable__control:checked~label.sk-toggleable__label {background-color: #d4ebff;}#sk-container-id-1 div.sk-label input.sk-toggleable__control:checked~label.sk-toggleable__label {background-color: #d4ebff;}#sk-container-id-1 input.sk-hidden--visually {border: 0;clip: rect(1px 1px 1px 1px);clip: rect(1px, 1px, 1px, 1px);height: 1px;margin: -1px;overflow: hidden;padding: 0;position: absolute;width: 1px;}#sk-container-id-1 div.sk-estimator {font-family: monospace;background-color: #f0f8ff;border: 1px dotted black;border-radius: 0.25em;box-sizing: border-box;margin-bottom: 0.5em;}#sk-container-id-1 div.sk-estimator:hover {background-color: #d4ebff;}#sk-container-id-1 div.sk-parallel-item::after {content: \"\";width: 100%;border-bottom: 1px solid gray;flex-grow: 1;}#sk-container-id-1 div.sk-label:hover label.sk-toggleable__label {background-color: #d4ebff;}#sk-container-id-1 div.sk-serial::before {content: \"\";position: absolute;border-left: 1px solid gray;box-sizing: border-box;top: 0;bottom: 0;left: 50%;z-index: 0;}#sk-container-id-1 div.sk-serial {display: flex;flex-direction: column;align-items: center;background-color: white;padding-right: 0.2em;padding-left: 0.2em;position: relative;}#sk-container-id-1 div.sk-item {position: relative;z-index: 1;}#sk-container-id-1 div.sk-parallel {display: flex;align-items: stretch;justify-content: center;background-color: white;position: relative;}#sk-container-id-1 div.sk-item::before, #sk-container-id-1 div.sk-parallel-item::before {content: \"\";position: absolute;border-left: 1px solid gray;box-sizing: border-box;top: 0;bottom: 0;left: 50%;z-index: -1;}#sk-container-id-1 div.sk-parallel-item {display: flex;flex-direction: column;z-index: 1;position: relative;background-color: white;}#sk-container-id-1 div.sk-parallel-item:first-child::after {align-self: flex-end;width: 50%;}#sk-container-id-1 div.sk-parallel-item:last-child::after {align-self: flex-start;width: 50%;}#sk-container-id-1 div.sk-parallel-item:only-child::after {width: 0;}#sk-container-id-1 div.sk-dashed-wrapped {border: 1px dashed gray;margin: 0 0.4em 0.5em 0.4em;box-sizing: border-box;padding-bottom: 0.4em;background-color: white;}#sk-container-id-1 div.sk-label label {font-family: monospace;font-weight: bold;display: inline-block;line-height: 1.2em;}#sk-container-id-1 div.sk-label-container {text-align: center;}#sk-container-id-1 div.sk-container {/* jupyter's `normalize.less` sets `[hidden] { display: none; }` but bootstrap.min.css set `[hidden] { display: none !important; }` so we also need the `!important` here to be able to override the default hidden behavior on the sphinx rendered scikit-learn.org. See: https://github.com/scikit-learn/scikit-learn/issues/21755 */display: inline-block !important;position: relative;}#sk-container-id-1 div.sk-text-repr-fallback {display: none;}</style><div id=\"sk-container-id-1\" class=\"sk-top-container\"><div class=\"sk-text-repr-fallback\"><pre>RandomizedSearchCV(estimator=RandomForestClassifier(), n_iter=50,\n",
       "                   param_distributions={&#x27;max_depth&#x27;: range(2, 20, 2),\n",
       "                                        &#x27;n_estimators&#x27;: range(10, 150, 10)},\n",
       "                   random_state=123, return_train_score=True,\n",
       "                   scoring=&#x27;accuracy&#x27;, verbose=1)</pre><b>In a Jupyter environment, please rerun this cell to show the HTML representation or trust the notebook. <br />On GitHub, the HTML representation is unable to render, please try loading this page with nbviewer.org.</b></div><div class=\"sk-container\" hidden><div class=\"sk-item sk-dashed-wrapped\"><div class=\"sk-label-container\"><div class=\"sk-label sk-toggleable\"><input class=\"sk-toggleable__control sk-hidden--visually\" id=\"sk-estimator-id-1\" type=\"checkbox\" ><label for=\"sk-estimator-id-1\" class=\"sk-toggleable__label sk-toggleable__label-arrow\">RandomizedSearchCV</label><div class=\"sk-toggleable__content\"><pre>RandomizedSearchCV(estimator=RandomForestClassifier(), n_iter=50,\n",
       "                   param_distributions={&#x27;max_depth&#x27;: range(2, 20, 2),\n",
       "                                        &#x27;n_estimators&#x27;: range(10, 150, 10)},\n",
       "                   random_state=123, return_train_score=True,\n",
       "                   scoring=&#x27;accuracy&#x27;, verbose=1)</pre></div></div></div><div class=\"sk-parallel\"><div class=\"sk-parallel-item\"><div class=\"sk-item\"><div class=\"sk-label-container\"><div class=\"sk-label sk-toggleable\"><input class=\"sk-toggleable__control sk-hidden--visually\" id=\"sk-estimator-id-2\" type=\"checkbox\" ><label for=\"sk-estimator-id-2\" class=\"sk-toggleable__label sk-toggleable__label-arrow\">estimator: RandomForestClassifier</label><div class=\"sk-toggleable__content\"><pre>RandomForestClassifier()</pre></div></div></div><div class=\"sk-serial\"><div class=\"sk-item\"><div class=\"sk-estimator sk-toggleable\"><input class=\"sk-toggleable__control sk-hidden--visually\" id=\"sk-estimator-id-3\" type=\"checkbox\" ><label for=\"sk-estimator-id-3\" class=\"sk-toggleable__label sk-toggleable__label-arrow\">RandomForestClassifier</label><div class=\"sk-toggleable__content\"><pre>RandomForestClassifier()</pre></div></div></div></div></div></div></div></div></div></div>"
      ],
      "text/plain": [
       "RandomizedSearchCV(estimator=RandomForestClassifier(), n_iter=50,\n",
       "                   param_distributions={'max_depth': range(2, 20, 2),\n",
       "                                        'n_estimators': range(10, 150, 10)},\n",
       "                   random_state=123, return_train_score=True,\n",
       "                   scoring='accuracy', verbose=1)"
      ]
     },
     "execution_count": 28,
     "metadata": {},
     "output_type": "execute_result"
    }
   ],
   "source": [
    "param_grid_rf = {\n",
    "    \"n_estimators\":range(10,150,10) , #number of trees in forest randint(low=10, high=100)\n",
    "    \"max_depth\":range(2,20,2)       #depth of each tree   randint(low=2, high=20)\n",
    "} \n",
    "\n",
    "random_search_rf = RandomizedSearchCV(\n",
    "    estimator=rf,\n",
    "    param_distributions=param_grid_rf,\n",
    "    n_iter=50,                     #tries 50 combo of hyperparameters\n",
    "    verbose=1,                     #displays some info as i\n",
    "    scoring='accuracy',\n",
    "    random_state=123,\n",
    "    return_train_score=True,\n",
    ")\n",
    "X=df.drop(columns = ['Exited'])\n",
    "y=df['Exited']\n",
    "random_search_rf.fit(X_train, y_train) "
   ]
  },
  {
   "cell_type": "code",
   "execution_count": 29,
   "metadata": {},
   "outputs": [
    {
     "name": "stdout",
     "output_type": "stream",
     "text": [
      "Best hyperparameter values:  {'n_estimators': 110, 'max_depth': 14}\n",
      "Best score: 0.858\n"
     ]
    }
   ],
   "source": [
    "print(\"Best hyperparameter values: \", random_search_rf.best_params_)\n",
    "print(\"Best score: %0.3f\" % (random_search_rf.best_score_))"
   ]
  },
  {
   "cell_type": "markdown",
   "metadata": {},
   "source": [
    "**XGBoost hyperparameter optimization**"
   ]
  },
  {
   "cell_type": "code",
   "execution_count": 30,
   "metadata": {},
   "outputs": [],
   "source": [
    "param_grid_xgb = {\n",
    "     'max_depth': [3, 5, 7],\n",
    "    'learning_rate': [0.1, 0.01, 0.001],\n",
    "    'subsample': [0.5, 0.7, 1]\n",
    "}"
   ]
  },
  {
   "cell_type": "code",
   "execution_count": 31,
   "metadata": {},
   "outputs": [
    {
     "name": "stdout",
     "output_type": "stream",
     "text": [
      "Fitting 5 folds for each of 10 candidates, totalling 50 fits\n"
     ]
    },
    {
     "data": {
      "text/html": [
       "<style>#sk-container-id-2 {color: black;}#sk-container-id-2 pre{padding: 0;}#sk-container-id-2 div.sk-toggleable {background-color: white;}#sk-container-id-2 label.sk-toggleable__label {cursor: pointer;display: block;width: 100%;margin-bottom: 0;padding: 0.3em;box-sizing: border-box;text-align: center;}#sk-container-id-2 label.sk-toggleable__label-arrow:before {content: \"▸\";float: left;margin-right: 0.25em;color: #696969;}#sk-container-id-2 label.sk-toggleable__label-arrow:hover:before {color: black;}#sk-container-id-2 div.sk-estimator:hover label.sk-toggleable__label-arrow:before {color: black;}#sk-container-id-2 div.sk-toggleable__content {max-height: 0;max-width: 0;overflow: hidden;text-align: left;background-color: #f0f8ff;}#sk-container-id-2 div.sk-toggleable__content pre {margin: 0.2em;color: black;border-radius: 0.25em;background-color: #f0f8ff;}#sk-container-id-2 input.sk-toggleable__control:checked~div.sk-toggleable__content {max-height: 200px;max-width: 100%;overflow: auto;}#sk-container-id-2 input.sk-toggleable__control:checked~label.sk-toggleable__label-arrow:before {content: \"▾\";}#sk-container-id-2 div.sk-estimator input.sk-toggleable__control:checked~label.sk-toggleable__label {background-color: #d4ebff;}#sk-container-id-2 div.sk-label input.sk-toggleable__control:checked~label.sk-toggleable__label {background-color: #d4ebff;}#sk-container-id-2 input.sk-hidden--visually {border: 0;clip: rect(1px 1px 1px 1px);clip: rect(1px, 1px, 1px, 1px);height: 1px;margin: -1px;overflow: hidden;padding: 0;position: absolute;width: 1px;}#sk-container-id-2 div.sk-estimator {font-family: monospace;background-color: #f0f8ff;border: 1px dotted black;border-radius: 0.25em;box-sizing: border-box;margin-bottom: 0.5em;}#sk-container-id-2 div.sk-estimator:hover {background-color: #d4ebff;}#sk-container-id-2 div.sk-parallel-item::after {content: \"\";width: 100%;border-bottom: 1px solid gray;flex-grow: 1;}#sk-container-id-2 div.sk-label:hover label.sk-toggleable__label {background-color: #d4ebff;}#sk-container-id-2 div.sk-serial::before {content: \"\";position: absolute;border-left: 1px solid gray;box-sizing: border-box;top: 0;bottom: 0;left: 50%;z-index: 0;}#sk-container-id-2 div.sk-serial {display: flex;flex-direction: column;align-items: center;background-color: white;padding-right: 0.2em;padding-left: 0.2em;position: relative;}#sk-container-id-2 div.sk-item {position: relative;z-index: 1;}#sk-container-id-2 div.sk-parallel {display: flex;align-items: stretch;justify-content: center;background-color: white;position: relative;}#sk-container-id-2 div.sk-item::before, #sk-container-id-2 div.sk-parallel-item::before {content: \"\";position: absolute;border-left: 1px solid gray;box-sizing: border-box;top: 0;bottom: 0;left: 50%;z-index: -1;}#sk-container-id-2 div.sk-parallel-item {display: flex;flex-direction: column;z-index: 1;position: relative;background-color: white;}#sk-container-id-2 div.sk-parallel-item:first-child::after {align-self: flex-end;width: 50%;}#sk-container-id-2 div.sk-parallel-item:last-child::after {align-self: flex-start;width: 50%;}#sk-container-id-2 div.sk-parallel-item:only-child::after {width: 0;}#sk-container-id-2 div.sk-dashed-wrapped {border: 1px dashed gray;margin: 0 0.4em 0.5em 0.4em;box-sizing: border-box;padding-bottom: 0.4em;background-color: white;}#sk-container-id-2 div.sk-label label {font-family: monospace;font-weight: bold;display: inline-block;line-height: 1.2em;}#sk-container-id-2 div.sk-label-container {text-align: center;}#sk-container-id-2 div.sk-container {/* jupyter's `normalize.less` sets `[hidden] { display: none; }` but bootstrap.min.css set `[hidden] { display: none !important; }` so we also need the `!important` here to be able to override the default hidden behavior on the sphinx rendered scikit-learn.org. See: https://github.com/scikit-learn/scikit-learn/issues/21755 */display: inline-block !important;position: relative;}#sk-container-id-2 div.sk-text-repr-fallback {display: none;}</style><div id=\"sk-container-id-2\" class=\"sk-top-container\"><div class=\"sk-text-repr-fallback\"><pre>RandomizedSearchCV(estimator=XGBClassifier(base_score=None, booster=None,\n",
       "                                           callbacks=None,\n",
       "                                           colsample_bylevel=None,\n",
       "                                           colsample_bynode=None,\n",
       "                                           colsample_bytree=None, device=None,\n",
       "                                           early_stopping_rounds=None,\n",
       "                                           enable_categorical=False,\n",
       "                                           eval_metric=None, feature_types=None,\n",
       "                                           gamma=None, grow_policy=None,\n",
       "                                           importance_type=None,\n",
       "                                           interaction_constraints=None,\n",
       "                                           learning_rate=None...\n",
       "                                           max_leaves=None,\n",
       "                                           min_child_weight=None, missing=nan,\n",
       "                                           monotone_constraints=None,\n",
       "                                           multi_strategy=None,\n",
       "                                           n_estimators=None, n_jobs=None,\n",
       "                                           num_parallel_tree=None,\n",
       "                                           random_state=None, ...),\n",
       "                   n_jobs=1,\n",
       "                   param_distributions={&#x27;learning_rate&#x27;: [0.1, 0.01, 0.001],\n",
       "                                        &#x27;max_depth&#x27;: [3, 5, 7],\n",
       "                                        &#x27;subsample&#x27;: [0.5, 0.7, 1]},\n",
       "                   random_state=321, return_train_score=True,\n",
       "                   scoring=&#x27;accuracy&#x27;, verbose=1)</pre><b>In a Jupyter environment, please rerun this cell to show the HTML representation or trust the notebook. <br />On GitHub, the HTML representation is unable to render, please try loading this page with nbviewer.org.</b></div><div class=\"sk-container\" hidden><div class=\"sk-item sk-dashed-wrapped\"><div class=\"sk-label-container\"><div class=\"sk-label sk-toggleable\"><input class=\"sk-toggleable__control sk-hidden--visually\" id=\"sk-estimator-id-4\" type=\"checkbox\" ><label for=\"sk-estimator-id-4\" class=\"sk-toggleable__label sk-toggleable__label-arrow\">RandomizedSearchCV</label><div class=\"sk-toggleable__content\"><pre>RandomizedSearchCV(estimator=XGBClassifier(base_score=None, booster=None,\n",
       "                                           callbacks=None,\n",
       "                                           colsample_bylevel=None,\n",
       "                                           colsample_bynode=None,\n",
       "                                           colsample_bytree=None, device=None,\n",
       "                                           early_stopping_rounds=None,\n",
       "                                           enable_categorical=False,\n",
       "                                           eval_metric=None, feature_types=None,\n",
       "                                           gamma=None, grow_policy=None,\n",
       "                                           importance_type=None,\n",
       "                                           interaction_constraints=None,\n",
       "                                           learning_rate=None...\n",
       "                                           max_leaves=None,\n",
       "                                           min_child_weight=None, missing=nan,\n",
       "                                           monotone_constraints=None,\n",
       "                                           multi_strategy=None,\n",
       "                                           n_estimators=None, n_jobs=None,\n",
       "                                           num_parallel_tree=None,\n",
       "                                           random_state=None, ...),\n",
       "                   n_jobs=1,\n",
       "                   param_distributions={&#x27;learning_rate&#x27;: [0.1, 0.01, 0.001],\n",
       "                                        &#x27;max_depth&#x27;: [3, 5, 7],\n",
       "                                        &#x27;subsample&#x27;: [0.5, 0.7, 1]},\n",
       "                   random_state=321, return_train_score=True,\n",
       "                   scoring=&#x27;accuracy&#x27;, verbose=1)</pre></div></div></div><div class=\"sk-parallel\"><div class=\"sk-parallel-item\"><div class=\"sk-item\"><div class=\"sk-label-container\"><div class=\"sk-label sk-toggleable\"><input class=\"sk-toggleable__control sk-hidden--visually\" id=\"sk-estimator-id-5\" type=\"checkbox\" ><label for=\"sk-estimator-id-5\" class=\"sk-toggleable__label sk-toggleable__label-arrow\">estimator: XGBClassifier</label><div class=\"sk-toggleable__content\"><pre>XGBClassifier(base_score=None, booster=None, callbacks=None,\n",
       "              colsample_bylevel=None, colsample_bynode=None,\n",
       "              colsample_bytree=None, device=None, early_stopping_rounds=None,\n",
       "              enable_categorical=False, eval_metric=None, feature_types=None,\n",
       "              gamma=None, grow_policy=None, importance_type=None,\n",
       "              interaction_constraints=None, learning_rate=None, max_bin=None,\n",
       "              max_cat_threshold=None, max_cat_to_onehot=None,\n",
       "              max_delta_step=None, max_depth=None, max_leaves=None,\n",
       "              min_child_weight=None, missing=nan, monotone_constraints=None,\n",
       "              multi_strategy=None, n_estimators=None, n_jobs=None,\n",
       "              num_parallel_tree=None, random_state=None, ...)</pre></div></div></div><div class=\"sk-serial\"><div class=\"sk-item\"><div class=\"sk-estimator sk-toggleable\"><input class=\"sk-toggleable__control sk-hidden--visually\" id=\"sk-estimator-id-6\" type=\"checkbox\" ><label for=\"sk-estimator-id-6\" class=\"sk-toggleable__label sk-toggleable__label-arrow\">XGBClassifier</label><div class=\"sk-toggleable__content\"><pre>XGBClassifier(base_score=None, booster=None, callbacks=None,\n",
       "              colsample_bylevel=None, colsample_bynode=None,\n",
       "              colsample_bytree=None, device=None, early_stopping_rounds=None,\n",
       "              enable_categorical=False, eval_metric=None, feature_types=None,\n",
       "              gamma=None, grow_policy=None, importance_type=None,\n",
       "              interaction_constraints=None, learning_rate=None, max_bin=None,\n",
       "              max_cat_threshold=None, max_cat_to_onehot=None,\n",
       "              max_delta_step=None, max_depth=None, max_leaves=None,\n",
       "              min_child_weight=None, missing=nan, monotone_constraints=None,\n",
       "              multi_strategy=None, n_estimators=None, n_jobs=None,\n",
       "              num_parallel_tree=None, random_state=None, ...)</pre></div></div></div></div></div></div></div></div></div></div>"
      ],
      "text/plain": [
       "RandomizedSearchCV(estimator=XGBClassifier(base_score=None, booster=None,\n",
       "                                           callbacks=None,\n",
       "                                           colsample_bylevel=None,\n",
       "                                           colsample_bynode=None,\n",
       "                                           colsample_bytree=None, device=None,\n",
       "                                           early_stopping_rounds=None,\n",
       "                                           enable_categorical=False,\n",
       "                                           eval_metric=None, feature_types=None,\n",
       "                                           gamma=None, grow_policy=None,\n",
       "                                           importance_type=None,\n",
       "                                           interaction_constraints=None,\n",
       "                                           learning_rate=None...\n",
       "                                           max_leaves=None,\n",
       "                                           min_child_weight=None, missing=nan,\n",
       "                                           monotone_constraints=None,\n",
       "                                           multi_strategy=None,\n",
       "                                           n_estimators=None, n_jobs=None,\n",
       "                                           num_parallel_tree=None,\n",
       "                                           random_state=None, ...),\n",
       "                   n_jobs=1,\n",
       "                   param_distributions={'learning_rate': [0.1, 0.01, 0.001],\n",
       "                                        'max_depth': [3, 5, 7],\n",
       "                                        'subsample': [0.5, 0.7, 1]},\n",
       "                   random_state=321, return_train_score=True,\n",
       "                   scoring='accuracy', verbose=1)"
      ]
     },
     "execution_count": 31,
     "metadata": {},
     "output_type": "execute_result"
    }
   ],
   "source": [
    "\n",
    "xg =xgb.XGBClassifier()\n",
    "random_search_xgboost = RandomizedSearchCV(\n",
    "    estimator = xg,\n",
    "    param_distributions = param_grid_xgb,\n",
    "    n_iter = 10,\n",
    "    verbose =1,\n",
    "    n_jobs=1,\n",
    "    scoring=\"accuracy\",\n",
    "    random_state = 321,\n",
    "    return_train_score=True,\n",
    ")\n",
    "random_search_xgboost.fit(X_train,y_train)"
   ]
  },
  {
   "cell_type": "code",
   "execution_count": 32,
   "metadata": {},
   "outputs": [
    {
     "name": "stdout",
     "output_type": "stream",
     "text": [
      "Best hyperparameter values:  {'subsample': 1, 'max_depth': 3, 'learning_rate': 0.1}\n",
      "Best score: 0.865\n"
     ]
    }
   ],
   "source": [
    "print(\"Best hyperparameter values: \", random_search_xgboost.best_params_)\n",
    "print(\"Best score: %0.3f\" % (random_search_xgboost.best_score_))"
   ]
  },
  {
   "cell_type": "code",
   "execution_count": 34,
   "metadata": {},
   "outputs": [],
   "source": [
    "np.random.seed(42)"
   ]
  },
  {
   "cell_type": "code",
   "execution_count": 39,
   "metadata": {},
   "outputs": [
    {
     "name": "stdout",
     "output_type": "stream",
     "text": [
      "Requirement already satisfied: scikeras[tensorflow] in c:\\users\\user\\appdata\\local\\packages\\pythonsoftwarefoundation.python.3.11_qbz5n2kfra8p0\\localcache\\local-packages\\python311\\site-packages (0.12.0)\n",
      "Requirement already satisfied: packaging>=0.21 in c:\\users\\user\\appdata\\local\\packages\\pythonsoftwarefoundation.python.3.11_qbz5n2kfra8p0\\localcache\\local-packages\\python311\\site-packages (from scikeras[tensorflow]) (23.2)\n",
      "Requirement already satisfied: scikit-learn>=1.0.0 in c:\\users\\user\\appdata\\local\\packages\\pythonsoftwarefoundation.python.3.11_qbz5n2kfra8p0\\localcache\\local-packages\\python311\\site-packages (from scikeras[tensorflow]) (1.3.2)\n",
      "Requirement already satisfied: tensorflow<2.13.0,>=2.12.0 in c:\\users\\user\\appdata\\local\\packages\\pythonsoftwarefoundation.python.3.11_qbz5n2kfra8p0\\localcache\\local-packages\\python311\\site-packages (from scikeras[tensorflow]) (2.12.1)\n",
      "Requirement already satisfied: tensorflow-io-gcs-filesystem<0.32,>=0.23.1 in c:\\users\\user\\appdata\\local\\packages\\pythonsoftwarefoundation.python.3.11_qbz5n2kfra8p0\\localcache\\local-packages\\python311\\site-packages (from scikeras[tensorflow]) (0.31.0)\n",
      "Requirement already satisfied: numpy<2.0,>=1.17.3 in c:\\users\\user\\appdata\\local\\packages\\pythonsoftwarefoundation.python.3.11_qbz5n2kfra8p0\\localcache\\local-packages\\python311\\site-packages (from scikit-learn>=1.0.0->scikeras[tensorflow]) (1.24.3)\n",
      "Requirement already satisfied: scipy>=1.5.0 in c:\\users\\user\\appdata\\local\\packages\\pythonsoftwarefoundation.python.3.11_qbz5n2kfra8p0\\localcache\\local-packages\\python311\\site-packages (from scikit-learn>=1.0.0->scikeras[tensorflow]) (1.11.3)\n",
      "Requirement already satisfied: joblib>=1.1.1 in c:\\users\\user\\appdata\\local\\packages\\pythonsoftwarefoundation.python.3.11_qbz5n2kfra8p0\\localcache\\local-packages\\python311\\site-packages (from scikit-learn>=1.0.0->scikeras[tensorflow]) (1.3.2)\n",
      "Requirement already satisfied: threadpoolctl>=2.0.0 in c:\\users\\user\\appdata\\local\\packages\\pythonsoftwarefoundation.python.3.11_qbz5n2kfra8p0\\localcache\\local-packages\\python311\\site-packages (from scikit-learn>=1.0.0->scikeras[tensorflow]) (3.2.0)\n",
      "Requirement already satisfied: tensorflow-intel==2.12.1 in c:\\users\\user\\appdata\\local\\packages\\pythonsoftwarefoundation.python.3.11_qbz5n2kfra8p0\\localcache\\local-packages\\python311\\site-packages (from tensorflow<2.13.0,>=2.12.0->scikeras[tensorflow]) (2.12.1)\n",
      "Requirement already satisfied: absl-py>=1.0.0 in c:\\users\\user\\appdata\\local\\packages\\pythonsoftwarefoundation.python.3.11_qbz5n2kfra8p0\\localcache\\local-packages\\python311\\site-packages (from tensorflow-intel==2.12.1->tensorflow<2.13.0,>=2.12.0->scikeras[tensorflow]) (2.0.0)\n",
      "Requirement already satisfied: astunparse>=1.6.0 in c:\\users\\user\\appdata\\local\\packages\\pythonsoftwarefoundation.python.3.11_qbz5n2kfra8p0\\localcache\\local-packages\\python311\\site-packages (from tensorflow-intel==2.12.1->tensorflow<2.13.0,>=2.12.0->scikeras[tensorflow]) (1.6.3)\n",
      "Requirement already satisfied: flatbuffers>=2.0 in c:\\users\\user\\appdata\\local\\packages\\pythonsoftwarefoundation.python.3.11_qbz5n2kfra8p0\\localcache\\local-packages\\python311\\site-packages (from tensorflow-intel==2.12.1->tensorflow<2.13.0,>=2.12.0->scikeras[tensorflow]) (23.5.26)\n",
      "Requirement already satisfied: gast<=0.4.0,>=0.2.1 in c:\\users\\user\\appdata\\local\\packages\\pythonsoftwarefoundation.python.3.11_qbz5n2kfra8p0\\localcache\\local-packages\\python311\\site-packages (from tensorflow-intel==2.12.1->tensorflow<2.13.0,>=2.12.0->scikeras[tensorflow]) (0.4.0)\n",
      "Requirement already satisfied: google-pasta>=0.1.1 in c:\\users\\user\\appdata\\local\\packages\\pythonsoftwarefoundation.python.3.11_qbz5n2kfra8p0\\localcache\\local-packages\\python311\\site-packages (from tensorflow-intel==2.12.1->tensorflow<2.13.0,>=2.12.0->scikeras[tensorflow]) (0.2.0)\n",
      "Requirement already satisfied: h5py>=2.9.0 in c:\\users\\user\\appdata\\local\\packages\\pythonsoftwarefoundation.python.3.11_qbz5n2kfra8p0\\localcache\\local-packages\\python311\\site-packages (from tensorflow-intel==2.12.1->tensorflow<2.13.0,>=2.12.0->scikeras[tensorflow]) (3.10.0)\n",
      "Requirement already satisfied: jax>=0.3.15 in c:\\users\\user\\appdata\\local\\packages\\pythonsoftwarefoundation.python.3.11_qbz5n2kfra8p0\\localcache\\local-packages\\python311\\site-packages (from tensorflow-intel==2.12.1->tensorflow<2.13.0,>=2.12.0->scikeras[tensorflow]) (0.4.20)\n",
      "Requirement already satisfied: libclang>=13.0.0 in c:\\users\\user\\appdata\\local\\packages\\pythonsoftwarefoundation.python.3.11_qbz5n2kfra8p0\\localcache\\local-packages\\python311\\site-packages (from tensorflow-intel==2.12.1->tensorflow<2.13.0,>=2.12.0->scikeras[tensorflow]) (16.0.6)\n",
      "Requirement already satisfied: opt-einsum>=2.3.2 in c:\\users\\user\\appdata\\local\\packages\\pythonsoftwarefoundation.python.3.11_qbz5n2kfra8p0\\localcache\\local-packages\\python311\\site-packages (from tensorflow-intel==2.12.1->tensorflow<2.13.0,>=2.12.0->scikeras[tensorflow]) (3.3.0)\n",
      "Requirement already satisfied: protobuf!=4.21.0,!=4.21.1,!=4.21.2,!=4.21.3,!=4.21.4,!=4.21.5,<5.0.0dev,>=3.20.3 in c:\\users\\user\\appdata\\local\\packages\\pythonsoftwarefoundation.python.3.11_qbz5n2kfra8p0\\localcache\\local-packages\\python311\\site-packages (from tensorflow-intel==2.12.1->tensorflow<2.13.0,>=2.12.0->scikeras[tensorflow]) (4.25.0)\n",
      "Requirement already satisfied: setuptools in c:\\program files\\windowsapps\\pythonsoftwarefoundation.python.3.11_3.11.1776.0_x64__qbz5n2kfra8p0\\lib\\site-packages (from tensorflow-intel==2.12.1->tensorflow<2.13.0,>=2.12.0->scikeras[tensorflow]) (65.5.0)\n",
      "Requirement already satisfied: six>=1.12.0 in c:\\users\\user\\appdata\\local\\packages\\pythonsoftwarefoundation.python.3.11_qbz5n2kfra8p0\\localcache\\local-packages\\python311\\site-packages (from tensorflow-intel==2.12.1->tensorflow<2.13.0,>=2.12.0->scikeras[tensorflow]) (1.16.0)\n",
      "Requirement already satisfied: termcolor>=1.1.0 in c:\\users\\user\\appdata\\local\\packages\\pythonsoftwarefoundation.python.3.11_qbz5n2kfra8p0\\localcache\\local-packages\\python311\\site-packages (from tensorflow-intel==2.12.1->tensorflow<2.13.0,>=2.12.0->scikeras[tensorflow]) (2.3.0)\n",
      "Requirement already satisfied: typing-extensions<4.6.0,>=3.6.6 in c:\\users\\user\\appdata\\local\\packages\\pythonsoftwarefoundation.python.3.11_qbz5n2kfra8p0\\localcache\\local-packages\\python311\\site-packages (from tensorflow-intel==2.12.1->tensorflow<2.13.0,>=2.12.0->scikeras[tensorflow]) (4.5.0)\n",
      "Requirement already satisfied: wrapt<1.15,>=1.11.0 in c:\\users\\user\\appdata\\local\\packages\\pythonsoftwarefoundation.python.3.11_qbz5n2kfra8p0\\localcache\\local-packages\\python311\\site-packages (from tensorflow-intel==2.12.1->tensorflow<2.13.0,>=2.12.0->scikeras[tensorflow]) (1.14.1)\n",
      "Requirement already satisfied: grpcio<2.0,>=1.24.3 in c:\\users\\user\\appdata\\local\\packages\\pythonsoftwarefoundation.python.3.11_qbz5n2kfra8p0\\localcache\\local-packages\\python311\\site-packages (from tensorflow-intel==2.12.1->tensorflow<2.13.0,>=2.12.0->scikeras[tensorflow]) (1.59.2)\n",
      "Requirement already satisfied: tensorboard<2.13,>=2.12 in c:\\users\\user\\appdata\\local\\packages\\pythonsoftwarefoundation.python.3.11_qbz5n2kfra8p0\\localcache\\local-packages\\python311\\site-packages (from tensorflow-intel==2.12.1->tensorflow<2.13.0,>=2.12.0->scikeras[tensorflow]) (2.12.3)\n",
      "Requirement already satisfied: tensorflow-estimator<2.13,>=2.12.0 in c:\\users\\user\\appdata\\local\\packages\\pythonsoftwarefoundation.python.3.11_qbz5n2kfra8p0\\localcache\\local-packages\\python311\\site-packages (from tensorflow-intel==2.12.1->tensorflow<2.13.0,>=2.12.0->scikeras[tensorflow]) (2.12.0)\n",
      "Requirement already satisfied: keras<2.13,>=2.12.0 in c:\\users\\user\\appdata\\local\\packages\\pythonsoftwarefoundation.python.3.11_qbz5n2kfra8p0\\localcache\\local-packages\\python311\\site-packages (from tensorflow-intel==2.12.1->tensorflow<2.13.0,>=2.12.0->scikeras[tensorflow]) (2.12.0)\n",
      "Requirement already satisfied: wheel<1.0,>=0.23.0 in c:\\users\\user\\appdata\\local\\packages\\pythonsoftwarefoundation.python.3.11_qbz5n2kfra8p0\\localcache\\local-packages\\python311\\site-packages (from astunparse>=1.6.0->tensorflow-intel==2.12.1->tensorflow<2.13.0,>=2.12.0->scikeras[tensorflow]) (0.41.3)\n",
      "Requirement already satisfied: ml-dtypes>=0.2.0 in c:\\users\\user\\appdata\\local\\packages\\pythonsoftwarefoundation.python.3.11_qbz5n2kfra8p0\\localcache\\local-packages\\python311\\site-packages (from jax>=0.3.15->tensorflow-intel==2.12.1->tensorflow<2.13.0,>=2.12.0->scikeras[tensorflow]) (0.2.0)\n",
      "Requirement already satisfied: google-auth<3,>=1.6.3 in c:\\users\\user\\appdata\\local\\packages\\pythonsoftwarefoundation.python.3.11_qbz5n2kfra8p0\\localcache\\local-packages\\python311\\site-packages (from tensorboard<2.13,>=2.12->tensorflow-intel==2.12.1->tensorflow<2.13.0,>=2.12.0->scikeras[tensorflow]) (2.23.4)\n",
      "Requirement already satisfied: google-auth-oauthlib<1.1,>=0.5 in c:\\users\\user\\appdata\\local\\packages\\pythonsoftwarefoundation.python.3.11_qbz5n2kfra8p0\\localcache\\local-packages\\python311\\site-packages (from tensorboard<2.13,>=2.12->tensorflow-intel==2.12.1->tensorflow<2.13.0,>=2.12.0->scikeras[tensorflow]) (1.0.0)\n",
      "Requirement already satisfied: markdown>=2.6.8 in c:\\users\\user\\appdata\\local\\packages\\pythonsoftwarefoundation.python.3.11_qbz5n2kfra8p0\\localcache\\local-packages\\python311\\site-packages (from tensorboard<2.13,>=2.12->tensorflow-intel==2.12.1->tensorflow<2.13.0,>=2.12.0->scikeras[tensorflow]) (3.5.1)\n",
      "Requirement already satisfied: requests<3,>=2.21.0 in c:\\users\\user\\appdata\\local\\packages\\pythonsoftwarefoundation.python.3.11_qbz5n2kfra8p0\\localcache\\local-packages\\python311\\site-packages (from tensorboard<2.13,>=2.12->tensorflow-intel==2.12.1->tensorflow<2.13.0,>=2.12.0->scikeras[tensorflow]) (2.31.0)\n",
      "Requirement already satisfied: tensorboard-data-server<0.8.0,>=0.7.0 in c:\\users\\user\\appdata\\local\\packages\\pythonsoftwarefoundation.python.3.11_qbz5n2kfra8p0\\localcache\\local-packages\\python311\\site-packages (from tensorboard<2.13,>=2.12->tensorflow-intel==2.12.1->tensorflow<2.13.0,>=2.12.0->scikeras[tensorflow]) (0.7.2)\n",
      "Requirement already satisfied: werkzeug>=1.0.1 in c:\\users\\user\\appdata\\local\\packages\\pythonsoftwarefoundation.python.3.11_qbz5n2kfra8p0\\localcache\\local-packages\\python311\\site-packages (from tensorboard<2.13,>=2.12->tensorflow-intel==2.12.1->tensorflow<2.13.0,>=2.12.0->scikeras[tensorflow]) (3.0.1)\n",
      "Requirement already satisfied: cachetools<6.0,>=2.0.0 in c:\\users\\user\\appdata\\local\\packages\\pythonsoftwarefoundation.python.3.11_qbz5n2kfra8p0\\localcache\\local-packages\\python311\\site-packages (from google-auth<3,>=1.6.3->tensorboard<2.13,>=2.12->tensorflow-intel==2.12.1->tensorflow<2.13.0,>=2.12.0->scikeras[tensorflow]) (5.3.2)\n",
      "Requirement already satisfied: pyasn1-modules>=0.2.1 in c:\\users\\user\\appdata\\local\\packages\\pythonsoftwarefoundation.python.3.11_qbz5n2kfra8p0\\localcache\\local-packages\\python311\\site-packages (from google-auth<3,>=1.6.3->tensorboard<2.13,>=2.12->tensorflow-intel==2.12.1->tensorflow<2.13.0,>=2.12.0->scikeras[tensorflow]) (0.3.0)\n",
      "Requirement already satisfied: rsa<5,>=3.1.4 in c:\\users\\user\\appdata\\local\\packages\\pythonsoftwarefoundation.python.3.11_qbz5n2kfra8p0\\localcache\\local-packages\\python311\\site-packages (from google-auth<3,>=1.6.3->tensorboard<2.13,>=2.12->tensorflow-intel==2.12.1->tensorflow<2.13.0,>=2.12.0->scikeras[tensorflow]) (4.9)\n",
      "Requirement already satisfied: requests-oauthlib>=0.7.0 in c:\\users\\user\\appdata\\local\\packages\\pythonsoftwarefoundation.python.3.11_qbz5n2kfra8p0\\localcache\\local-packages\\python311\\site-packages (from google-auth-oauthlib<1.1,>=0.5->tensorboard<2.13,>=2.12->tensorflow-intel==2.12.1->tensorflow<2.13.0,>=2.12.0->scikeras[tensorflow]) (1.3.1)\n",
      "Requirement already satisfied: charset-normalizer<4,>=2 in c:\\users\\user\\appdata\\local\\packages\\pythonsoftwarefoundation.python.3.11_qbz5n2kfra8p0\\localcache\\local-packages\\python311\\site-packages (from requests<3,>=2.21.0->tensorboard<2.13,>=2.12->tensorflow-intel==2.12.1->tensorflow<2.13.0,>=2.12.0->scikeras[tensorflow]) (3.3.2)\n",
      "Requirement already satisfied: idna<4,>=2.5 in c:\\users\\user\\appdata\\local\\packages\\pythonsoftwarefoundation.python.3.11_qbz5n2kfra8p0\\localcache\\local-packages\\python311\\site-packages (from requests<3,>=2.21.0->tensorboard<2.13,>=2.12->tensorflow-intel==2.12.1->tensorflow<2.13.0,>=2.12.0->scikeras[tensorflow]) (3.4)\n",
      "Requirement already satisfied: urllib3<3,>=1.21.1 in c:\\users\\user\\appdata\\local\\packages\\pythonsoftwarefoundation.python.3.11_qbz5n2kfra8p0\\localcache\\local-packages\\python311\\site-packages (from requests<3,>=2.21.0->tensorboard<2.13,>=2.12->tensorflow-intel==2.12.1->tensorflow<2.13.0,>=2.12.0->scikeras[tensorflow]) (2.0.7)\n",
      "Requirement already satisfied: certifi>=2017.4.17 in c:\\users\\user\\appdata\\local\\packages\\pythonsoftwarefoundation.python.3.11_qbz5n2kfra8p0\\localcache\\local-packages\\python311\\site-packages (from requests<3,>=2.21.0->tensorboard<2.13,>=2.12->tensorflow-intel==2.12.1->tensorflow<2.13.0,>=2.12.0->scikeras[tensorflow]) (2023.7.22)\n",
      "Requirement already satisfied: MarkupSafe>=2.1.1 in c:\\users\\user\\appdata\\local\\packages\\pythonsoftwarefoundation.python.3.11_qbz5n2kfra8p0\\localcache\\local-packages\\python311\\site-packages (from werkzeug>=1.0.1->tensorboard<2.13,>=2.12->tensorflow-intel==2.12.1->tensorflow<2.13.0,>=2.12.0->scikeras[tensorflow]) (2.1.3)\n",
      "Requirement already satisfied: pyasn1<0.6.0,>=0.4.6 in c:\\users\\user\\appdata\\local\\packages\\pythonsoftwarefoundation.python.3.11_qbz5n2kfra8p0\\localcache\\local-packages\\python311\\site-packages (from pyasn1-modules>=0.2.1->google-auth<3,>=1.6.3->tensorboard<2.13,>=2.12->tensorflow-intel==2.12.1->tensorflow<2.13.0,>=2.12.0->scikeras[tensorflow]) (0.5.0)\n",
      "Requirement already satisfied: oauthlib>=3.0.0 in c:\\users\\user\\appdata\\local\\packages\\pythonsoftwarefoundation.python.3.11_qbz5n2kfra8p0\\localcache\\local-packages\\python311\\site-packages (from requests-oauthlib>=0.7.0->google-auth-oauthlib<1.1,>=0.5->tensorboard<2.13,>=2.12->tensorflow-intel==2.12.1->tensorflow<2.13.0,>=2.12.0->scikeras[tensorflow]) (3.2.2)\n"
     ]
    }
   ],
   "source": [
    "!pip install scikeras[tensorflow]"
   ]
  },
  {
   "cell_type": "code",
   "execution_count": 36,
   "metadata": {},
   "outputs": [
    {
     "data": {
      "text/plain": [
       "CreditScore            6\n",
       "Balance                4\n",
       "NumOfProducts          4\n",
       "HasCrCard              2\n",
       "IsActiveMember         2\n",
       "EstimatedSalary        3\n",
       "Geography_Germany      2\n",
       "Geography_Spain        2\n",
       "Gender_Male            2\n",
       "TenureGroup_2 - 4      2\n",
       "TenureGroup_4 - 6      2\n",
       "TenureGroup_6 - 8      2\n",
       "TenureGroup_8 - 10     2\n",
       "TenureGroup_10 - 12    2\n",
       "AgeGroup_23 - 28       2\n",
       "AgeGroup_28 - 33       2\n",
       "AgeGroup_33 - 38       2\n",
       "AgeGroup_38 - 43       2\n",
       "AgeGroup_43 - 48       2\n",
       "AgeGroup_48 - 53       2\n",
       "AgeGroup_53 - 58       2\n",
       "AgeGroup_58 - 63       2\n",
       "AgeGroup_63 - 68       2\n",
       "AgeGroup_68 - 73       2\n",
       "AgeGroup_73 - 78       2\n",
       "AgeGroup_78 - 83       2\n",
       "AgeGroup_83 - 88       2\n",
       "AgeGroup_88 - 93       2\n",
       "dtype: int64"
      ]
     },
     "execution_count": 36,
     "metadata": {},
     "output_type": "execute_result"
    }
   ],
   "source": [
    "X_train.nunique()"
   ]
  },
  {
   "cell_type": "code",
   "execution_count": 42,
   "metadata": {},
   "outputs": [
    {
     "name": "stdout",
     "output_type": "stream",
     "text": [
      "Epoch 1/10\n",
      "146/146 [==============================] - 1s 2ms/step - loss: 0.5570 - accuracy: 0.7634\n",
      "Epoch 2/10\n",
      "146/146 [==============================] - 0s 2ms/step - loss: 0.5063 - accuracy: 0.7943\n",
      "Epoch 3/10\n",
      "146/146 [==============================] - 0s 2ms/step - loss: 0.4796 - accuracy: 0.7951\n",
      "Epoch 4/10\n",
      "146/146 [==============================] - 0s 2ms/step - loss: 0.4555 - accuracy: 0.7998\n",
      "Epoch 5/10\n",
      "146/146 [==============================] - 0s 2ms/step - loss: 0.4352 - accuracy: 0.8172\n",
      "Epoch 6/10\n",
      "146/146 [==============================] - 0s 2ms/step - loss: 0.4208 - accuracy: 0.8210\n",
      "Epoch 7/10\n",
      "146/146 [==============================] - 0s 2ms/step - loss: 0.4128 - accuracy: 0.8305\n",
      "Epoch 8/10\n",
      "146/146 [==============================] - 0s 3ms/step - loss: 0.4083 - accuracy: 0.8313\n",
      "Epoch 9/10\n",
      "146/146 [==============================] - 0s 2ms/step - loss: 0.4054 - accuracy: 0.8328\n",
      "Epoch 10/10\n",
      "146/146 [==============================] - 0s 3ms/step - loss: 0.4038 - accuracy: 0.8313\n",
      "73/73 [==============================] - 0s 1ms/step\n",
      "Epoch 1/10\n",
      "146/146 [==============================] - 1s 2ms/step - loss: 0.5928 - accuracy: 0.7079\n",
      "Epoch 2/10\n",
      "146/146 [==============================] - 0s 2ms/step - loss: 0.4762 - accuracy: 0.7952\n",
      "Epoch 3/10\n",
      "146/146 [==============================] - 0s 2ms/step - loss: 0.4539 - accuracy: 0.7962\n",
      "Epoch 4/10\n",
      "146/146 [==============================] - 0s 2ms/step - loss: 0.4382 - accuracy: 0.8031\n",
      "Epoch 5/10\n",
      "146/146 [==============================] - 0s 2ms/step - loss: 0.4249 - accuracy: 0.8157\n",
      "Epoch 6/10\n",
      "146/146 [==============================] - 0s 2ms/step - loss: 0.4157 - accuracy: 0.8230\n",
      "Epoch 7/10\n",
      "146/146 [==============================] - 0s 3ms/step - loss: 0.4099 - accuracy: 0.8267\n",
      "Epoch 8/10\n",
      "146/146 [==============================] - 0s 2ms/step - loss: 0.4063 - accuracy: 0.8292\n",
      "Epoch 9/10\n",
      "146/146 [==============================] - 0s 3ms/step - loss: 0.4038 - accuracy: 0.8305\n",
      "Epoch 10/10\n",
      "146/146 [==============================] - 0s 2ms/step - loss: 0.4021 - accuracy: 0.8333\n",
      "73/73 [==============================] - 0s 2ms/step\n",
      "Epoch 1/10\n",
      "146/146 [==============================] - 1s 2ms/step - loss: 0.5995 - accuracy: 0.7004\n",
      "Epoch 2/10\n",
      "146/146 [==============================] - 0s 2ms/step - loss: 0.4814 - accuracy: 0.7999\n",
      "Epoch 3/10\n",
      "146/146 [==============================] - 0s 2ms/step - loss: 0.4531 - accuracy: 0.8050\n",
      "Epoch 4/10\n",
      "146/146 [==============================] - 0s 2ms/step - loss: 0.4331 - accuracy: 0.8164\n",
      "Epoch 5/10\n",
      "146/146 [==============================] - 0s 2ms/step - loss: 0.4185 - accuracy: 0.8277\n",
      "Epoch 6/10\n",
      "146/146 [==============================] - 0s 2ms/step - loss: 0.4106 - accuracy: 0.8307\n",
      "Epoch 7/10\n",
      "146/146 [==============================] - 0s 2ms/step - loss: 0.4050 - accuracy: 0.8333\n",
      "Epoch 8/10\n",
      "146/146 [==============================] - 0s 2ms/step - loss: 0.4016 - accuracy: 0.8361\n",
      "Epoch 9/10\n",
      "146/146 [==============================] - 0s 2ms/step - loss: 0.3993 - accuracy: 0.8335\n",
      "Epoch 10/10\n",
      "146/146 [==============================] - 0s 2ms/step - loss: 0.3976 - accuracy: 0.8365\n",
      "73/73 [==============================] - 0s 2ms/step\n",
      "Epoch 1/15\n",
      "292/292 [==============================] - 1s 2ms/step - loss: 0.5775 - accuracy: 0.7090\n",
      "Epoch 2/15\n",
      "292/292 [==============================] - 1s 2ms/step - loss: 0.4719 - accuracy: 0.7990\n",
      "Epoch 3/15\n",
      "292/292 [==============================] - 1s 3ms/step - loss: 0.4437 - accuracy: 0.8035\n",
      "Epoch 4/15\n",
      "292/292 [==============================] - 1s 2ms/step - loss: 0.4240 - accuracy: 0.8176\n",
      "Epoch 5/15\n",
      "292/292 [==============================] - 1s 3ms/step - loss: 0.4135 - accuracy: 0.8245\n",
      "Epoch 6/15\n",
      "292/292 [==============================] - 1s 2ms/step - loss: 0.4079 - accuracy: 0.8283\n",
      "Epoch 7/15\n",
      "292/292 [==============================] - 1s 2ms/step - loss: 0.4046 - accuracy: 0.8298\n",
      "Epoch 8/15\n",
      "292/292 [==============================] - 1s 2ms/step - loss: 0.4031 - accuracy: 0.8303\n",
      "Epoch 9/15\n",
      "292/292 [==============================] - 1s 2ms/step - loss: 0.4022 - accuracy: 0.8322\n",
      "Epoch 10/15\n",
      "292/292 [==============================] - 1s 2ms/step - loss: 0.4007 - accuracy: 0.8326\n",
      "Epoch 11/15\n",
      "292/292 [==============================] - 1s 2ms/step - loss: 0.3997 - accuracy: 0.8326\n",
      "Epoch 12/15\n",
      "292/292 [==============================] - 1s 2ms/step - loss: 0.3988 - accuracy: 0.8324\n",
      "Epoch 13/15\n",
      "292/292 [==============================] - 1s 2ms/step - loss: 0.3982 - accuracy: 0.8360\n",
      "Epoch 14/15\n",
      "292/292 [==============================] - 1s 2ms/step - loss: 0.3968 - accuracy: 0.8352\n",
      "Epoch 15/15\n",
      "292/292 [==============================] - 1s 2ms/step - loss: 0.3960 - accuracy: 0.8339\n",
      "146/146 [==============================] - 0s 2ms/step\n",
      "Epoch 1/15\n",
      "292/292 [==============================] - 1s 2ms/step - loss: 0.5695 - accuracy: 0.7319\n",
      "Epoch 2/15\n",
      "292/292 [==============================] - 1s 2ms/step - loss: 0.4526 - accuracy: 0.7992\n",
      "Epoch 3/15\n",
      "292/292 [==============================] - 1s 2ms/step - loss: 0.4274 - accuracy: 0.8127\n",
      "Epoch 4/15\n",
      "292/292 [==============================] - 1s 2ms/step - loss: 0.4135 - accuracy: 0.8252\n",
      "Epoch 5/15\n",
      "292/292 [==============================] - 1s 2ms/step - loss: 0.4078 - accuracy: 0.8262\n",
      "Epoch 6/15\n",
      "292/292 [==============================] - 1s 2ms/step - loss: 0.4049 - accuracy: 0.8305\n",
      "Epoch 7/15\n",
      "292/292 [==============================] - 1s 2ms/step - loss: 0.4035 - accuracy: 0.8327\n",
      "Epoch 8/15\n",
      "292/292 [==============================] - 1s 3ms/step - loss: 0.4023 - accuracy: 0.8337\n",
      "Epoch 9/15\n",
      "292/292 [==============================] - 1s 2ms/step - loss: 0.4013 - accuracy: 0.8337\n",
      "Epoch 10/15\n",
      "292/292 [==============================] - 1s 2ms/step - loss: 0.4006 - accuracy: 0.8327\n",
      "Epoch 11/15\n",
      "292/292 [==============================] - 1s 2ms/step - loss: 0.3997 - accuracy: 0.8342\n",
      "Epoch 12/15\n",
      "292/292 [==============================] - 1s 2ms/step - loss: 0.3994 - accuracy: 0.8333\n",
      "Epoch 13/15\n",
      "292/292 [==============================] - 1s 2ms/step - loss: 0.3989 - accuracy: 0.8342\n",
      "Epoch 14/15\n",
      "292/292 [==============================] - 1s 2ms/step - loss: 0.3982 - accuracy: 0.8342\n",
      "Epoch 15/15\n",
      "292/292 [==============================] - 1s 2ms/step - loss: 0.3975 - accuracy: 0.8335\n",
      "146/146 [==============================] - 0s 2ms/step\n",
      "Epoch 1/15\n",
      "292/292 [==============================] - 2s 2ms/step - loss: 0.5566 - accuracy: 0.7639\n",
      "Epoch 2/15\n",
      "292/292 [==============================] - 1s 2ms/step - loss: 0.4651 - accuracy: 0.7949\n",
      "Epoch 3/15\n",
      "292/292 [==============================] - 1s 2ms/step - loss: 0.4419 - accuracy: 0.7954\n",
      "Epoch 4/15\n",
      "292/292 [==============================] - 1s 2ms/step - loss: 0.4243 - accuracy: 0.8027\n",
      "Epoch 5/15\n",
      "292/292 [==============================] - 1s 2ms/step - loss: 0.4125 - accuracy: 0.8198\n",
      "Epoch 6/15\n",
      "292/292 [==============================] - 1s 2ms/step - loss: 0.4065 - accuracy: 0.8286\n",
      "Epoch 7/15\n",
      "292/292 [==============================] - 1s 2ms/step - loss: 0.4026 - accuracy: 0.8314\n",
      "Epoch 8/15\n",
      "292/292 [==============================] - 1s 2ms/step - loss: 0.3999 - accuracy: 0.8327\n",
      "Epoch 9/15\n",
      "292/292 [==============================] - 1s 2ms/step - loss: 0.3977 - accuracy: 0.8369\n",
      "Epoch 10/15\n",
      "292/292 [==============================] - 1s 2ms/step - loss: 0.3960 - accuracy: 0.8359\n",
      "Epoch 11/15\n",
      "292/292 [==============================] - 1s 2ms/step - loss: 0.3946 - accuracy: 0.8369\n",
      "Epoch 12/15\n",
      "292/292 [==============================] - 1s 2ms/step - loss: 0.3933 - accuracy: 0.8395\n",
      "Epoch 13/15\n",
      "292/292 [==============================] - 1s 2ms/step - loss: 0.3910 - accuracy: 0.8387\n",
      "Epoch 14/15\n",
      "292/292 [==============================] - 1s 2ms/step - loss: 0.3904 - accuracy: 0.8410\n",
      "Epoch 15/15\n",
      "292/292 [==============================] - 1s 2ms/step - loss: 0.3883 - accuracy: 0.8399\n",
      "146/146 [==============================] - 0s 2ms/step\n",
      "Epoch 1/25\n",
      "73/73 [==============================] - 1s 2ms/step - loss: 0.5963 - accuracy: 0.7107\n",
      "Epoch 2/25\n",
      "73/73 [==============================] - 0s 2ms/step - loss: 0.4780 - accuracy: 0.7951\n",
      "Epoch 3/25\n",
      "73/73 [==============================] - 0s 2ms/step - loss: 0.4553 - accuracy: 0.7949\n",
      "Epoch 4/25\n",
      "73/73 [==============================] - 0s 2ms/step - loss: 0.4394 - accuracy: 0.8007\n",
      "Epoch 5/25\n",
      "73/73 [==============================] - 0s 2ms/step - loss: 0.4253 - accuracy: 0.8103\n",
      "Epoch 6/25\n",
      "73/73 [==============================] - 0s 3ms/step - loss: 0.4154 - accuracy: 0.8208\n",
      "Epoch 7/25\n",
      "73/73 [==============================] - 0s 2ms/step - loss: 0.4092 - accuracy: 0.8264\n",
      "Epoch 8/25\n",
      "73/73 [==============================] - 0s 2ms/step - loss: 0.4052 - accuracy: 0.8298\n",
      "Epoch 9/25\n",
      "73/73 [==============================] - 0s 2ms/step - loss: 0.4033 - accuracy: 0.8307\n",
      "Epoch 10/25\n",
      "73/73 [==============================] - 0s 2ms/step - loss: 0.4016 - accuracy: 0.8326\n",
      "Epoch 11/25\n",
      "73/73 [==============================] - 0s 2ms/step - loss: 0.4007 - accuracy: 0.8341\n",
      "Epoch 12/25\n",
      "73/73 [==============================] - 0s 2ms/step - loss: 0.3996 - accuracy: 0.8339\n",
      "Epoch 13/25\n",
      "73/73 [==============================] - 0s 2ms/step - loss: 0.3992 - accuracy: 0.8324\n",
      "Epoch 14/25\n",
      "73/73 [==============================] - 0s 2ms/step - loss: 0.3982 - accuracy: 0.8328\n",
      "Epoch 15/25\n",
      "73/73 [==============================] - 0s 3ms/step - loss: 0.3976 - accuracy: 0.8356\n",
      "Epoch 16/25\n",
      "73/73 [==============================] - 0s 2ms/step - loss: 0.3973 - accuracy: 0.8335\n",
      "Epoch 17/25\n",
      "73/73 [==============================] - 0s 2ms/step - loss: 0.3967 - accuracy: 0.8350\n",
      "Epoch 18/25\n",
      "73/73 [==============================] - 0s 2ms/step - loss: 0.3959 - accuracy: 0.8343\n",
      "Epoch 19/25\n",
      "73/73 [==============================] - 0s 2ms/step - loss: 0.3958 - accuracy: 0.8354\n",
      "Epoch 20/25\n",
      "73/73 [==============================] - 0s 3ms/step - loss: 0.3952 - accuracy: 0.8343\n",
      "Epoch 21/25\n",
      "73/73 [==============================] - 0s 3ms/step - loss: 0.3950 - accuracy: 0.8350\n",
      "Epoch 22/25\n",
      "73/73 [==============================] - 0s 3ms/step - loss: 0.3947 - accuracy: 0.8350\n",
      "Epoch 23/25\n",
      "73/73 [==============================] - 0s 3ms/step - loss: 0.3938 - accuracy: 0.8348\n",
      "Epoch 24/25\n",
      "73/73 [==============================] - 0s 3ms/step - loss: 0.3939 - accuracy: 0.8369\n",
      "Epoch 25/25\n",
      "73/73 [==============================] - 0s 3ms/step - loss: 0.3936 - accuracy: 0.8363\n",
      "37/37 [==============================] - 0s 1ms/step\n",
      "Epoch 1/25\n",
      "73/73 [==============================] - 1s 2ms/step - loss: 0.6627 - accuracy: 0.6128\n",
      "Epoch 2/25\n",
      "73/73 [==============================] - 0s 2ms/step - loss: 0.4983 - accuracy: 0.8039\n",
      "Epoch 3/25\n",
      "73/73 [==============================] - 0s 2ms/step - loss: 0.4538 - accuracy: 0.8003\n",
      "Epoch 4/25\n",
      "73/73 [==============================] - 0s 2ms/step - loss: 0.4375 - accuracy: 0.8084\n",
      "Epoch 5/25\n",
      "73/73 [==============================] - 0s 2ms/step - loss: 0.4242 - accuracy: 0.8149\n",
      "Epoch 6/25\n",
      "73/73 [==============================] - 0s 2ms/step - loss: 0.4145 - accuracy: 0.8237\n",
      "Epoch 7/25\n",
      "73/73 [==============================] - 0s 2ms/step - loss: 0.4081 - accuracy: 0.8288\n",
      "Epoch 8/25\n",
      "73/73 [==============================] - 0s 2ms/step - loss: 0.4043 - accuracy: 0.8292\n",
      "Epoch 9/25\n",
      "73/73 [==============================] - 0s 3ms/step - loss: 0.4019 - accuracy: 0.8324\n",
      "Epoch 10/25\n",
      "73/73 [==============================] - 0s 3ms/step - loss: 0.3997 - accuracy: 0.8337\n",
      "Epoch 11/25\n",
      "73/73 [==============================] - 0s 2ms/step - loss: 0.3983 - accuracy: 0.8346\n",
      "Epoch 12/25\n",
      "73/73 [==============================] - 0s 2ms/step - loss: 0.3965 - accuracy: 0.8344\n",
      "Epoch 13/25\n",
      "73/73 [==============================] - 0s 2ms/step - loss: 0.3946 - accuracy: 0.8354\n",
      "Epoch 14/25\n",
      "73/73 [==============================] - 0s 2ms/step - loss: 0.3933 - accuracy: 0.8365\n",
      "Epoch 15/25\n",
      "73/73 [==============================] - 0s 2ms/step - loss: 0.3918 - accuracy: 0.8369\n",
      "Epoch 16/25\n",
      "73/73 [==============================] - 0s 2ms/step - loss: 0.3905 - accuracy: 0.8374\n",
      "Epoch 17/25\n",
      "73/73 [==============================] - 0s 2ms/step - loss: 0.3890 - accuracy: 0.8389\n",
      "Epoch 18/25\n",
      "73/73 [==============================] - 0s 3ms/step - loss: 0.3873 - accuracy: 0.8402\n",
      "Epoch 19/25\n",
      "73/73 [==============================] - 0s 2ms/step - loss: 0.3859 - accuracy: 0.8406\n",
      "Epoch 20/25\n",
      "73/73 [==============================] - 0s 3ms/step - loss: 0.3847 - accuracy: 0.8434\n",
      "Epoch 21/25\n",
      "73/73 [==============================] - 0s 2ms/step - loss: 0.3831 - accuracy: 0.8438\n",
      "Epoch 22/25\n",
      "73/73 [==============================] - 0s 2ms/step - loss: 0.3813 - accuracy: 0.8432\n",
      "Epoch 23/25\n",
      "73/73 [==============================] - 0s 2ms/step - loss: 0.3797 - accuracy: 0.8432\n",
      "Epoch 24/25\n",
      "73/73 [==============================] - 0s 2ms/step - loss: 0.3781 - accuracy: 0.8464\n",
      "Epoch 25/25\n",
      "73/73 [==============================] - 0s 2ms/step - loss: 0.3772 - accuracy: 0.8438\n",
      "37/37 [==============================] - 0s 2ms/step\n",
      "Epoch 1/25\n",
      "73/73 [==============================] - 1s 2ms/step - loss: 0.5533 - accuracy: 0.7339\n",
      "Epoch 2/25\n",
      "73/73 [==============================] - 0s 2ms/step - loss: 0.4697 - accuracy: 0.7994\n",
      "Epoch 3/25\n",
      "73/73 [==============================] - 0s 2ms/step - loss: 0.4451 - accuracy: 0.8061\n",
      "Epoch 4/25\n",
      "73/73 [==============================] - 0s 3ms/step - loss: 0.4271 - accuracy: 0.8159\n",
      "Epoch 5/25\n",
      "73/73 [==============================] - 0s 3ms/step - loss: 0.4145 - accuracy: 0.8269\n",
      "Epoch 6/25\n",
      "73/73 [==============================] - 0s 2ms/step - loss: 0.4069 - accuracy: 0.8314\n",
      "Epoch 7/25\n",
      "73/73 [==============================] - 0s 2ms/step - loss: 0.4026 - accuracy: 0.8331\n",
      "Epoch 8/25\n",
      "73/73 [==============================] - 0s 3ms/step - loss: 0.3995 - accuracy: 0.8346\n",
      "Epoch 9/25\n",
      "73/73 [==============================] - 0s 2ms/step - loss: 0.3975 - accuracy: 0.8348\n",
      "Epoch 10/25\n",
      "73/73 [==============================] - 0s 2ms/step - loss: 0.3956 - accuracy: 0.8374\n",
      "Epoch 11/25\n",
      "73/73 [==============================] - 0s 2ms/step - loss: 0.3946 - accuracy: 0.8372\n",
      "Epoch 12/25\n",
      "73/73 [==============================] - 0s 2ms/step - loss: 0.3933 - accuracy: 0.8391\n",
      "Epoch 13/25\n",
      "73/73 [==============================] - 0s 2ms/step - loss: 0.3920 - accuracy: 0.8380\n",
      "Epoch 14/25\n",
      "73/73 [==============================] - 0s 2ms/step - loss: 0.3909 - accuracy: 0.8380\n",
      "Epoch 15/25\n",
      "73/73 [==============================] - 0s 2ms/step - loss: 0.3897 - accuracy: 0.8393\n",
      "Epoch 16/25\n",
      "73/73 [==============================] - 0s 3ms/step - loss: 0.3888 - accuracy: 0.8397\n",
      "Epoch 17/25\n",
      "73/73 [==============================] - 0s 2ms/step - loss: 0.3878 - accuracy: 0.8389\n",
      "Epoch 18/25\n",
      "73/73 [==============================] - 0s 2ms/step - loss: 0.3864 - accuracy: 0.8402\n",
      "Epoch 19/25\n",
      "73/73 [==============================] - 0s 2ms/step - loss: 0.3852 - accuracy: 0.8425\n",
      "Epoch 20/25\n",
      "73/73 [==============================] - 0s 2ms/step - loss: 0.3838 - accuracy: 0.8429\n",
      "Epoch 21/25\n",
      "73/73 [==============================] - 0s 2ms/step - loss: 0.3830 - accuracy: 0.8408\n",
      "Epoch 22/25\n",
      "73/73 [==============================] - 0s 2ms/step - loss: 0.3818 - accuracy: 0.8427\n",
      "Epoch 23/25\n",
      "73/73 [==============================] - 0s 2ms/step - loss: 0.3803 - accuracy: 0.8421\n",
      "Epoch 24/25\n",
      "73/73 [==============================] - 0s 3ms/step - loss: 0.3789 - accuracy: 0.8444\n",
      "Epoch 25/25\n",
      "73/73 [==============================] - 0s 2ms/step - loss: 0.3774 - accuracy: 0.8438\n",
      "37/37 [==============================] - 0s 2ms/step\n",
      "Epoch 1/15\n",
      "292/292 [==============================] - 1s 2ms/step - loss: 0.4680 - accuracy: 0.7964\n",
      "Epoch 2/15\n",
      "292/292 [==============================] - 1s 2ms/step - loss: 0.4384 - accuracy: 0.8022\n",
      "Epoch 3/15\n",
      "292/292 [==============================] - 1s 2ms/step - loss: 0.4239 - accuracy: 0.8123\n",
      "Epoch 4/15\n",
      "292/292 [==============================] - 1s 2ms/step - loss: 0.4161 - accuracy: 0.8185\n",
      "Epoch 5/15\n",
      "292/292 [==============================] - 1s 2ms/step - loss: 0.4111 - accuracy: 0.8251\n",
      "Epoch 6/15\n",
      "292/292 [==============================] - 1s 2ms/step - loss: 0.4084 - accuracy: 0.8275\n",
      "Epoch 7/15\n",
      "292/292 [==============================] - 1s 2ms/step - loss: 0.4062 - accuracy: 0.8266\n",
      "Epoch 8/15\n",
      "292/292 [==============================] - 1s 2ms/step - loss: 0.4051 - accuracy: 0.8279\n",
      "Epoch 9/15\n",
      "292/292 [==============================] - 1s 2ms/step - loss: 0.4037 - accuracy: 0.8311\n",
      "Epoch 10/15\n",
      "292/292 [==============================] - 1s 2ms/step - loss: 0.4029 - accuracy: 0.8309\n",
      "Epoch 11/15\n",
      "292/292 [==============================] - 1s 2ms/step - loss: 0.4022 - accuracy: 0.8320\n",
      "Epoch 12/15\n",
      "292/292 [==============================] - 1s 2ms/step - loss: 0.4013 - accuracy: 0.8330\n",
      "Epoch 13/15\n",
      "292/292 [==============================] - 1s 2ms/step - loss: 0.4007 - accuracy: 0.8333\n",
      "Epoch 14/15\n",
      "292/292 [==============================] - 1s 2ms/step - loss: 0.3997 - accuracy: 0.8335\n",
      "Epoch 15/15\n",
      "292/292 [==============================] - 1s 2ms/step - loss: 0.3995 - accuracy: 0.8354\n",
      "146/146 [==============================] - 0s 2ms/step\n",
      "Epoch 1/15\n",
      "292/292 [==============================] - 1s 2ms/step - loss: 0.6146 - accuracy: 0.6471\n",
      "Epoch 2/15\n",
      "292/292 [==============================] - 1s 2ms/step - loss: 0.4577 - accuracy: 0.7971\n",
      "Epoch 3/15\n",
      "292/292 [==============================] - 1s 2ms/step - loss: 0.4303 - accuracy: 0.8078\n",
      "Epoch 4/15\n",
      "292/292 [==============================] - 1s 2ms/step - loss: 0.4129 - accuracy: 0.8252\n",
      "Epoch 5/15\n",
      "292/292 [==============================] - 1s 2ms/step - loss: 0.4060 - accuracy: 0.8320\n",
      "Epoch 6/15\n",
      "292/292 [==============================] - 1s 2ms/step - loss: 0.4028 - accuracy: 0.8359\n",
      "Epoch 7/15\n",
      "292/292 [==============================] - 1s 2ms/step - loss: 0.4011 - accuracy: 0.8346\n",
      "Epoch 8/15\n",
      "292/292 [==============================] - 1s 2ms/step - loss: 0.4000 - accuracy: 0.8352\n",
      "Epoch 9/15\n",
      "292/292 [==============================] - 1s 3ms/step - loss: 0.3985 - accuracy: 0.8361\n",
      "Epoch 10/15\n",
      "292/292 [==============================] - 1s 3ms/step - loss: 0.3972 - accuracy: 0.8359\n",
      "Epoch 11/15\n",
      "292/292 [==============================] - 1s 2ms/step - loss: 0.3961 - accuracy: 0.8391\n",
      "Epoch 12/15\n",
      "292/292 [==============================] - 1s 2ms/step - loss: 0.3950 - accuracy: 0.8367\n",
      "Epoch 13/15\n",
      "292/292 [==============================] - 1s 2ms/step - loss: 0.3931 - accuracy: 0.8406\n",
      "Epoch 14/15\n",
      "292/292 [==============================] - 1s 2ms/step - loss: 0.3923 - accuracy: 0.8382\n",
      "Epoch 15/15\n",
      "292/292 [==============================] - 1s 2ms/step - loss: 0.3909 - accuracy: 0.8404\n",
      "146/146 [==============================] - 0s 1ms/step\n",
      "Epoch 1/15\n",
      "292/292 [==============================] - 1s 2ms/step - loss: 0.5592 - accuracy: 0.7285\n",
      "Epoch 2/15\n",
      "292/292 [==============================] - 1s 2ms/step - loss: 0.4589 - accuracy: 0.7954\n",
      "Epoch 3/15\n",
      "292/292 [==============================] - 1s 2ms/step - loss: 0.4318 - accuracy: 0.8033\n",
      "Epoch 4/15\n",
      "292/292 [==============================] - 1s 2ms/step - loss: 0.4136 - accuracy: 0.8219\n",
      "Epoch 5/15\n",
      "292/292 [==============================] - 1s 2ms/step - loss: 0.4041 - accuracy: 0.8282\n",
      "Epoch 6/15\n",
      "292/292 [==============================] - 1s 2ms/step - loss: 0.3988 - accuracy: 0.8303\n",
      "Epoch 7/15\n",
      "292/292 [==============================] - 1s 2ms/step - loss: 0.3957 - accuracy: 0.8342\n",
      "Epoch 8/15\n",
      "292/292 [==============================] - 1s 2ms/step - loss: 0.3928 - accuracy: 0.8361\n",
      "Epoch 9/15\n",
      "292/292 [==============================] - 1s 2ms/step - loss: 0.3898 - accuracy: 0.8406\n",
      "Epoch 10/15\n",
      "292/292 [==============================] - 1s 2ms/step - loss: 0.3872 - accuracy: 0.8432\n",
      "Epoch 11/15\n",
      "292/292 [==============================] - 1s 2ms/step - loss: 0.3848 - accuracy: 0.8432\n",
      "Epoch 12/15\n",
      "292/292 [==============================] - 1s 2ms/step - loss: 0.3820 - accuracy: 0.8451\n",
      "Epoch 13/15\n",
      "292/292 [==============================] - 1s 2ms/step - loss: 0.3798 - accuracy: 0.8466\n",
      "Epoch 14/15\n",
      "292/292 [==============================] - 1s 2ms/step - loss: 0.3777 - accuracy: 0.8481\n",
      "Epoch 15/15\n",
      "292/292 [==============================] - 1s 2ms/step - loss: 0.3758 - accuracy: 0.8462\n",
      "146/146 [==============================] - 0s 2ms/step\n",
      "Epoch 1/20\n",
      "73/73 [==============================] - 1s 2ms/step - loss: 0.6768 - accuracy: 0.5780\n",
      "Epoch 2/20\n",
      "73/73 [==============================] - 0s 2ms/step - loss: 0.5207 - accuracy: 0.7902\n",
      "Epoch 3/20\n",
      "73/73 [==============================] - 0s 2ms/step - loss: 0.4797 - accuracy: 0.7955\n",
      "Epoch 4/20\n",
      "73/73 [==============================] - 0s 2ms/step - loss: 0.4663 - accuracy: 0.7955\n",
      "Epoch 5/20\n",
      "73/73 [==============================] - 0s 2ms/step - loss: 0.4570 - accuracy: 0.7958\n",
      "Epoch 6/20\n",
      "73/73 [==============================] - 0s 2ms/step - loss: 0.4484 - accuracy: 0.7977\n",
      "Epoch 7/20\n",
      "73/73 [==============================] - 0s 2ms/step - loss: 0.4400 - accuracy: 0.8009\n",
      "Epoch 8/20\n",
      "73/73 [==============================] - 0s 2ms/step - loss: 0.4319 - accuracy: 0.8063\n",
      "Epoch 9/20\n",
      "73/73 [==============================] - 0s 2ms/step - loss: 0.4242 - accuracy: 0.8116\n",
      "Epoch 10/20\n",
      "73/73 [==============================] - 0s 2ms/step - loss: 0.4176 - accuracy: 0.8172\n",
      "Epoch 11/20\n",
      "73/73 [==============================] - 0s 2ms/step - loss: 0.4126 - accuracy: 0.8221\n",
      "Epoch 12/20\n",
      "73/73 [==============================] - 0s 2ms/step - loss: 0.4087 - accuracy: 0.8275\n",
      "Epoch 13/20\n",
      "73/73 [==============================] - 0s 2ms/step - loss: 0.4062 - accuracy: 0.8281\n",
      "Epoch 14/20\n",
      "73/73 [==============================] - 0s 2ms/step - loss: 0.4040 - accuracy: 0.8303\n",
      "Epoch 15/20\n",
      "73/73 [==============================] - 0s 2ms/step - loss: 0.4029 - accuracy: 0.8298\n",
      "Epoch 16/20\n",
      "73/73 [==============================] - 0s 2ms/step - loss: 0.4018 - accuracy: 0.8298\n",
      "Epoch 17/20\n",
      "73/73 [==============================] - 0s 2ms/step - loss: 0.4013 - accuracy: 0.8309\n",
      "Epoch 18/20\n",
      "73/73 [==============================] - 0s 2ms/step - loss: 0.4004 - accuracy: 0.8343\n",
      "Epoch 19/20\n",
      "73/73 [==============================] - 0s 2ms/step - loss: 0.3997 - accuracy: 0.8341\n",
      "Epoch 20/20\n",
      "73/73 [==============================] - 0s 2ms/step - loss: 0.3990 - accuracy: 0.8337\n",
      "37/37 [==============================] - 0s 2ms/step\n",
      "Epoch 1/20\n",
      "73/73 [==============================] - 1s 2ms/step - loss: 0.5855 - accuracy: 0.7611\n",
      "Epoch 2/20\n",
      "73/73 [==============================] - 0s 2ms/step - loss: 0.4962 - accuracy: 0.7956\n",
      "Epoch 3/20\n",
      "73/73 [==============================] - 0s 2ms/step - loss: 0.4638 - accuracy: 0.7949\n",
      "Epoch 4/20\n",
      "73/73 [==============================] - 0s 2ms/step - loss: 0.4493 - accuracy: 0.7949\n",
      "Epoch 5/20\n",
      "73/73 [==============================] - 0s 3ms/step - loss: 0.4373 - accuracy: 0.7973\n",
      "Epoch 6/20\n",
      "73/73 [==============================] - 0s 2ms/step - loss: 0.4265 - accuracy: 0.8065\n",
      "Epoch 7/20\n",
      "73/73 [==============================] - 0s 2ms/step - loss: 0.4182 - accuracy: 0.8142\n",
      "Epoch 8/20\n",
      "73/73 [==============================] - 0s 2ms/step - loss: 0.4118 - accuracy: 0.8239\n",
      "Epoch 9/20\n",
      "73/73 [==============================] - 0s 2ms/step - loss: 0.4066 - accuracy: 0.8322\n",
      "Epoch 10/20\n",
      "73/73 [==============================] - 0s 2ms/step - loss: 0.4032 - accuracy: 0.8333\n",
      "Epoch 11/20\n",
      "73/73 [==============================] - 0s 2ms/step - loss: 0.4007 - accuracy: 0.8316\n",
      "Epoch 12/20\n",
      "73/73 [==============================] - 0s 2ms/step - loss: 0.3990 - accuracy: 0.8339\n",
      "Epoch 13/20\n",
      "73/73 [==============================] - 0s 2ms/step - loss: 0.3973 - accuracy: 0.8344\n",
      "Epoch 14/20\n",
      "73/73 [==============================] - 0s 3ms/step - loss: 0.3959 - accuracy: 0.8359\n",
      "Epoch 15/20\n",
      "73/73 [==============================] - 0s 2ms/step - loss: 0.3950 - accuracy: 0.8369\n",
      "Epoch 16/20\n",
      "73/73 [==============================] - 0s 3ms/step - loss: 0.3938 - accuracy: 0.8369\n",
      "Epoch 17/20\n",
      "73/73 [==============================] - 0s 2ms/step - loss: 0.3928 - accuracy: 0.8369\n",
      "Epoch 18/20\n",
      "73/73 [==============================] - 0s 3ms/step - loss: 0.3919 - accuracy: 0.8389\n",
      "Epoch 19/20\n",
      "73/73 [==============================] - 0s 2ms/step - loss: 0.3911 - accuracy: 0.8393\n",
      "Epoch 20/20\n",
      "73/73 [==============================] - 0s 2ms/step - loss: 0.3901 - accuracy: 0.8402\n",
      "37/37 [==============================] - 0s 2ms/step\n",
      "Epoch 1/20\n",
      "73/73 [==============================] - 1s 2ms/step - loss: 0.5560 - accuracy: 0.7902\n",
      "Epoch 2/20\n",
      "73/73 [==============================] - 0s 2ms/step - loss: 0.5176 - accuracy: 0.7956\n",
      "Epoch 3/20\n",
      "73/73 [==============================] - 0s 2ms/step - loss: 0.4938 - accuracy: 0.7958\n",
      "Epoch 4/20\n",
      "73/73 [==============================] - 0s 3ms/step - loss: 0.4754 - accuracy: 0.7973\n",
      "Epoch 5/20\n",
      "73/73 [==============================] - 0s 2ms/step - loss: 0.4605 - accuracy: 0.8020\n",
      "Epoch 6/20\n",
      "73/73 [==============================] - 0s 2ms/step - loss: 0.4476 - accuracy: 0.8061\n",
      "Epoch 7/20\n",
      "73/73 [==============================] - 0s 3ms/step - loss: 0.4367 - accuracy: 0.8121\n",
      "Epoch 8/20\n",
      "73/73 [==============================] - 0s 2ms/step - loss: 0.4279 - accuracy: 0.8159\n",
      "Epoch 9/20\n",
      "73/73 [==============================] - 0s 2ms/step - loss: 0.4207 - accuracy: 0.8222\n",
      "Epoch 10/20\n",
      "73/73 [==============================] - 0s 3ms/step - loss: 0.4157 - accuracy: 0.8267\n",
      "Epoch 11/20\n",
      "73/73 [==============================] - 0s 2ms/step - loss: 0.4117 - accuracy: 0.8284\n",
      "Epoch 12/20\n",
      "73/73 [==============================] - 0s 2ms/step - loss: 0.4089 - accuracy: 0.8292\n",
      "Epoch 13/20\n",
      "73/73 [==============================] - 0s 2ms/step - loss: 0.4066 - accuracy: 0.8314\n",
      "Epoch 14/20\n",
      "73/73 [==============================] - 0s 2ms/step - loss: 0.4050 - accuracy: 0.8331\n",
      "Epoch 15/20\n",
      "73/73 [==============================] - 0s 2ms/step - loss: 0.4037 - accuracy: 0.8339\n",
      "Epoch 16/20\n",
      "73/73 [==============================] - 0s 3ms/step - loss: 0.4033 - accuracy: 0.8348\n",
      "Epoch 17/20\n",
      "73/73 [==============================] - 0s 2ms/step - loss: 0.4020 - accuracy: 0.8346\n",
      "Epoch 18/20\n",
      "73/73 [==============================] - 0s 3ms/step - loss: 0.4018 - accuracy: 0.8344\n",
      "Epoch 19/20\n",
      "73/73 [==============================] - 0s 2ms/step - loss: 0.4012 - accuracy: 0.8357\n",
      "Epoch 20/20\n",
      "73/73 [==============================] - 0s 3ms/step - loss: 0.4005 - accuracy: 0.8359\n",
      "37/37 [==============================] - 0s 2ms/step\n",
      "Epoch 1/15\n",
      "292/292 [==============================] - 1s 2ms/step - loss: 0.5376 - accuracy: 0.7400\n",
      "Epoch 2/15\n",
      "292/292 [==============================] - 1s 2ms/step - loss: 0.4423 - accuracy: 0.8003\n",
      "Epoch 3/15\n",
      "292/292 [==============================] - 1s 2ms/step - loss: 0.4176 - accuracy: 0.8138\n",
      "Epoch 4/15\n",
      "292/292 [==============================] - 1s 3ms/step - loss: 0.4081 - accuracy: 0.8243\n",
      "Epoch 5/15\n",
      "292/292 [==============================] - 1s 2ms/step - loss: 0.4034 - accuracy: 0.8296\n",
      "Epoch 6/15\n",
      "292/292 [==============================] - 1s 2ms/step - loss: 0.4012 - accuracy: 0.8279\n",
      "Epoch 7/15\n",
      "292/292 [==============================] - 1s 2ms/step - loss: 0.3992 - accuracy: 0.8303\n",
      "Epoch 8/15\n",
      "292/292 [==============================] - 1s 2ms/step - loss: 0.3971 - accuracy: 0.8309\n",
      "Epoch 9/15\n",
      "292/292 [==============================] - 1s 2ms/step - loss: 0.3954 - accuracy: 0.8335\n",
      "Epoch 10/15\n",
      "292/292 [==============================] - 1s 2ms/step - loss: 0.3930 - accuracy: 0.8339\n",
      "Epoch 11/15\n",
      "292/292 [==============================] - 1s 2ms/step - loss: 0.3905 - accuracy: 0.8350\n",
      "Epoch 12/15\n",
      "292/292 [==============================] - 1s 2ms/step - loss: 0.3885 - accuracy: 0.8380\n",
      "Epoch 13/15\n",
      "292/292 [==============================] - 1s 2ms/step - loss: 0.3856 - accuracy: 0.8350\n",
      "Epoch 14/15\n",
      "292/292 [==============================] - 1s 3ms/step - loss: 0.3830 - accuracy: 0.8367\n",
      "Epoch 15/15\n",
      "292/292 [==============================] - 1s 2ms/step - loss: 0.3806 - accuracy: 0.8397\n",
      "146/146 [==============================] - 0s 2ms/step\n",
      "Epoch 1/15\n",
      "292/292 [==============================] - 1s 2ms/step - loss: 0.5155 - accuracy: 0.7718\n",
      "Epoch 2/15\n",
      "292/292 [==============================] - 1s 2ms/step - loss: 0.4387 - accuracy: 0.8042\n",
      "Epoch 3/15\n",
      "292/292 [==============================] - 1s 2ms/step - loss: 0.4144 - accuracy: 0.8204\n",
      "Epoch 4/15\n",
      "292/292 [==============================] - 1s 2ms/step - loss: 0.4055 - accuracy: 0.8303\n",
      "Epoch 5/15\n",
      "292/292 [==============================] - 1s 2ms/step - loss: 0.4015 - accuracy: 0.8352\n",
      "Epoch 6/15\n",
      "292/292 [==============================] - 1s 2ms/step - loss: 0.3987 - accuracy: 0.8372\n",
      "Epoch 7/15\n",
      "292/292 [==============================] - 1s 3ms/step - loss: 0.3965 - accuracy: 0.8376\n",
      "Epoch 8/15\n",
      "292/292 [==============================] - 1s 2ms/step - loss: 0.3945 - accuracy: 0.8384\n",
      "Epoch 9/15\n",
      "292/292 [==============================] - 1s 2ms/step - loss: 0.3923 - accuracy: 0.8410\n",
      "Epoch 10/15\n",
      "292/292 [==============================] - 1s 2ms/step - loss: 0.3901 - accuracy: 0.8414\n",
      "Epoch 11/15\n",
      "292/292 [==============================] - 1s 3ms/step - loss: 0.3878 - accuracy: 0.8421\n",
      "Epoch 12/15\n",
      "292/292 [==============================] - 1s 3ms/step - loss: 0.3850 - accuracy: 0.8414\n",
      "Epoch 13/15\n",
      "292/292 [==============================] - 1s 2ms/step - loss: 0.3822 - accuracy: 0.8434\n",
      "Epoch 14/15\n",
      "292/292 [==============================] - 1s 2ms/step - loss: 0.3795 - accuracy: 0.8470\n",
      "Epoch 15/15\n",
      "292/292 [==============================] - 1s 2ms/step - loss: 0.3766 - accuracy: 0.8464\n",
      "146/146 [==============================] - 0s 2ms/step\n",
      "Epoch 1/15\n",
      "292/292 [==============================] - 1s 2ms/step - loss: 0.4849 - accuracy: 0.7943\n",
      "Epoch 2/15\n",
      "292/292 [==============================] - 1s 2ms/step - loss: 0.4346 - accuracy: 0.8057\n",
      "Epoch 3/15\n",
      "292/292 [==============================] - 1s 2ms/step - loss: 0.4110 - accuracy: 0.8294\n",
      "Epoch 4/15\n",
      "292/292 [==============================] - 1s 2ms/step - loss: 0.4034 - accuracy: 0.8348\n",
      "Epoch 5/15\n",
      "292/292 [==============================] - 1s 2ms/step - loss: 0.3998 - accuracy: 0.8367\n",
      "Epoch 6/15\n",
      "292/292 [==============================] - 1s 2ms/step - loss: 0.3970 - accuracy: 0.8361\n",
      "Epoch 7/15\n",
      "292/292 [==============================] - 1s 2ms/step - loss: 0.3941 - accuracy: 0.8410\n",
      "Epoch 8/15\n",
      "292/292 [==============================] - 1s 3ms/step - loss: 0.3920 - accuracy: 0.8406\n",
      "Epoch 9/15\n",
      "292/292 [==============================] - 1s 2ms/step - loss: 0.3891 - accuracy: 0.8421\n",
      "Epoch 10/15\n",
      "292/292 [==============================] - 1s 2ms/step - loss: 0.3861 - accuracy: 0.8434\n",
      "Epoch 11/15\n",
      "292/292 [==============================] - 1s 3ms/step - loss: 0.3837 - accuracy: 0.8453\n",
      "Epoch 12/15\n",
      "292/292 [==============================] - 1s 2ms/step - loss: 0.3812 - accuracy: 0.8438\n",
      "Epoch 13/15\n",
      "292/292 [==============================] - 1s 2ms/step - loss: 0.3788 - accuracy: 0.8455\n",
      "Epoch 14/15\n",
      "292/292 [==============================] - 1s 2ms/step - loss: 0.3757 - accuracy: 0.8474\n",
      "Epoch 15/15\n",
      "292/292 [==============================] - 1s 2ms/step - loss: 0.3732 - accuracy: 0.8492\n",
      "146/146 [==============================] - 0s 2ms/step\n",
      "Epoch 1/15\n",
      "438/438 [==============================] - 2s 2ms/step - loss: 0.4844 - accuracy: 0.7880\n",
      "Epoch 2/15\n",
      "438/438 [==============================] - 1s 2ms/step - loss: 0.4182 - accuracy: 0.8194\n",
      "Epoch 3/15\n",
      "438/438 [==============================] - 1s 2ms/step - loss: 0.4048 - accuracy: 0.8320\n",
      "Epoch 4/15\n",
      "438/438 [==============================] - 1s 2ms/step - loss: 0.3991 - accuracy: 0.8359\n",
      "Epoch 5/15\n",
      "438/438 [==============================] - 1s 2ms/step - loss: 0.3956 - accuracy: 0.8381\n",
      "Epoch 6/15\n",
      "438/438 [==============================] - 1s 2ms/step - loss: 0.3910 - accuracy: 0.8390\n",
      "Epoch 7/15\n",
      "438/438 [==============================] - 1s 2ms/step - loss: 0.3871 - accuracy: 0.8407\n",
      "Epoch 8/15\n",
      "438/438 [==============================] - 1s 2ms/step - loss: 0.3829 - accuracy: 0.8420\n",
      "Epoch 9/15\n",
      "438/438 [==============================] - 1s 2ms/step - loss: 0.3784 - accuracy: 0.8471\n",
      "Epoch 10/15\n",
      "438/438 [==============================] - 1s 2ms/step - loss: 0.3752 - accuracy: 0.8471\n",
      "Epoch 11/15\n",
      "438/438 [==============================] - 1s 2ms/step - loss: 0.3711 - accuracy: 0.8490\n",
      "Epoch 12/15\n",
      "438/438 [==============================] - 1s 2ms/step - loss: 0.3670 - accuracy: 0.8496\n",
      "Epoch 13/15\n",
      "438/438 [==============================] - 1s 2ms/step - loss: 0.3633 - accuracy: 0.8500\n",
      "Epoch 14/15\n",
      "438/438 [==============================] - 1s 2ms/step - loss: 0.3604 - accuracy: 0.8524\n",
      "Epoch 15/15\n",
      "438/438 [==============================] - 1s 2ms/step - loss: 0.3577 - accuracy: 0.8536\n",
      "Best parameters found:  {'optimizer': 'sgd', 'neurons': 16, 'learning_rate': 0.01, 'hidden_layers': 1, 'epochs': 15, 'batch_size': 16}\n",
      "Best accuracy found:  0.83585738102138\n"
     ]
    }
   ],
   "source": [
    "import keras\n",
    "from keras.optimizers import Adam\n",
    "from scikeras.wrappers import KerasClassifier\n",
    "\n",
    "input_dim = X_train.shape[1]\n",
    "\n",
    "def create_model(neurons=8, hidden_layers=1, learning_rate=0.01, layers=None, optimizer='adam'):\n",
    "    model = Sequential()\n",
    "    model.add(keras.layers.InputLayer(input_shape=(X_train.shape[1],)))\n",
    "\n",
    "    if layers:\n",
    "        for layer_neurons in layers:\n",
    "            model.add(keras.layers.Dense(layer_neurons, activation='relu'))\n",
    "    else:\n",
    "        for _ in range(hidden_layers):\n",
    "            model.add(keras.layers.Dense(neurons, activation='relu'))\n",
    "    \n",
    "    model.add(keras.layers.Dense(1, activation='sigmoid'))\n",
    "\n",
    "    model.compile(optimizer=optimizer, loss='binary_crossentropy', metrics=['accuracy'])\n",
    "    return model\n",
    "\n",
    "keras_model = KerasClassifier(model=create_model,neurons=8,hidden_layers=1,learning_rate=0.01, epochs=84, batch_size=32, verbose=1)\n",
    "\n",
    "param_dist = {\n",
    "    'neurons': [6, 8, 16],\n",
    "    'hidden_layers': [1, 2],\n",
    "    'optimizer': ['adam', 'sgd'],\n",
    "    'learning_rate': [0.01, 0.001, 0.0001],\n",
    "    'batch_size': [16, 32, 64],\n",
    "    'epochs': [5, 10, 15, 20, 25],\n",
    "}\n",
    "\n",
    "random_search = RandomizedSearchCV(estimator=keras_model, param_distributions=param_dist, n_iter=6, cv=3, scoring='accuracy')\n",
    "random_result = random_search.fit(X_train, y_train)\n",
    "\n",
    "print(\"Best parameters found: \", random_result.best_params_)\n",
    "print(\"Best accuracy found: \", random_result.best_score_)\n"
   ]
  },
  {
   "cell_type": "markdown",
   "metadata": {},
   "source": [
    "# Models Training"
   ]
  },
  {
   "cell_type": "code",
   "execution_count": 43,
   "metadata": {},
   "outputs": [
    {
     "name": "stdout",
     "output_type": "stream",
     "text": [
      "Epoch 1/15\n",
      "438/438 [==============================] - 2s 4ms/step - loss: 0.4280 - accuracy: 0.8137 - val_loss: 0.4031 - val_accuracy: 0.8250\n",
      "Epoch 2/15\n",
      "438/438 [==============================] - 1s 3ms/step - loss: 0.3868 - accuracy: 0.8390 - val_loss: 0.3795 - val_accuracy: 0.8437\n",
      "Epoch 3/15\n",
      "438/438 [==============================] - 2s 3ms/step - loss: 0.3595 - accuracy: 0.8550 - val_loss: 0.3642 - val_accuracy: 0.8490\n",
      "Epoch 4/15\n",
      "438/438 [==============================] - 2s 4ms/step - loss: 0.3493 - accuracy: 0.8594 - val_loss: 0.3779 - val_accuracy: 0.8463\n",
      "Epoch 5/15\n",
      "438/438 [==============================] - 1s 3ms/step - loss: 0.3454 - accuracy: 0.8597 - val_loss: 0.3716 - val_accuracy: 0.8503\n",
      "Epoch 6/15\n",
      "438/438 [==============================] - 1s 3ms/step - loss: 0.3398 - accuracy: 0.8606 - val_loss: 0.3559 - val_accuracy: 0.8580\n",
      "Epoch 7/15\n",
      "438/438 [==============================] - 1s 3ms/step - loss: 0.3387 - accuracy: 0.8634 - val_loss: 0.3540 - val_accuracy: 0.8550\n",
      "Epoch 8/15\n",
      "438/438 [==============================] - 1s 3ms/step - loss: 0.3359 - accuracy: 0.8643 - val_loss: 0.3711 - val_accuracy: 0.8493\n",
      "Epoch 9/15\n",
      "438/438 [==============================] - 1s 3ms/step - loss: 0.3382 - accuracy: 0.8649 - val_loss: 0.3703 - val_accuracy: 0.8460\n",
      "Epoch 10/15\n",
      "438/438 [==============================] - 1s 3ms/step - loss: 0.3299 - accuracy: 0.8650 - val_loss: 0.3706 - val_accuracy: 0.8547\n",
      "Epoch 11/15\n",
      "438/438 [==============================] - 1s 3ms/step - loss: 0.3271 - accuracy: 0.8669 - val_loss: 0.3665 - val_accuracy: 0.8490\n",
      "Epoch 12/15\n",
      "438/438 [==============================] - 1s 3ms/step - loss: 0.3277 - accuracy: 0.8677 - val_loss: 0.3619 - val_accuracy: 0.8530\n",
      "Epoch 13/15\n",
      "438/438 [==============================] - 2s 3ms/step - loss: 0.3243 - accuracy: 0.8670 - val_loss: 0.3670 - val_accuracy: 0.8450\n",
      "Epoch 14/15\n",
      "438/438 [==============================] - 1s 3ms/step - loss: 0.3262 - accuracy: 0.8676 - val_loss: 0.3715 - val_accuracy: 0.8477\n",
      "Epoch 15/15\n",
      "438/438 [==============================] - 1s 3ms/step - loss: 0.3225 - accuracy: 0.8696 - val_loss: 0.3749 - val_accuracy: 0.8497\n",
      "94/94 [==============================] - 0s 2ms/step\n",
      "Accuracy: 0.8496666666666667\n",
      "\n",
      "Confusion Matrix:\n",
      " [[2273  125]\n",
      " [ 326  276]]\n",
      "\n",
      "Classification Report:\n",
      "               precision    recall  f1-score   support\n",
      "\n",
      "           0       0.87      0.95      0.91      2398\n",
      "           1       0.69      0.46      0.55       602\n",
      "\n",
      "    accuracy                           0.85      3000\n",
      "   macro avg       0.78      0.70      0.73      3000\n",
      "weighted avg       0.84      0.85      0.84      3000\n",
      "\n"
     ]
    }
   ],
   "source": [
    "X_train = X_train.astype(int)  \n",
    "X_test = X_test.astype(int)  \n",
    "\n",
    "model = Sequential()\n",
    "model.add(Dense(units=16, input_dim=X_train.shape[1], activation='relu'))\n",
    "model.add(Dense(units=16, activation='relu'))\n",
    "model.add(Dense(units=1, activation='sigmoid'))\n",
    "\n",
    "model.compile(optimizer=Adam(learning_rate=0.01),\n",
    "              loss='binary_crossentropy',\n",
    "              metrics=['accuracy'])\n",
    "\n",
    "model.fit(X_train, y_train, epochs=15,batch_size=16, validation_data=(X_test, y_test), verbose=1)\n",
    "\n",
    "y_pred_nn = (model.predict(X_test) > 0.5).astype(int)\n",
    "accuracy = accuracy_score(y_test, y_pred_nn)\n",
    "\n",
    "conf_matrix = confusion_matrix(y_test, y_pred_nn)\n",
    "classification_rep = classification_report(y_test, y_pred_nn,zero_division=1)\n",
    "\n",
    "print(\"Accuracy:\", accuracy)\n",
    "print(\"\\nConfusion Matrix:\\n\", conf_matrix)\n",
    "print(\"\\nClassification Report:\\n\", classification_rep)"
   ]
  },
  {
   "cell_type": "code",
   "execution_count": 44,
   "metadata": {},
   "outputs": [
    {
     "name": "stdout",
     "output_type": "stream",
     "text": [
      "Validation accuracy =  84.7\n",
      "              precision    recall  f1-score   support\n",
      "\n",
      "           0       0.86      0.96      0.91      2398\n",
      "           1       0.71      0.40      0.51       602\n",
      "\n",
      "    accuracy                           0.85      3000\n",
      "   macro avg       0.79      0.68      0.71      3000\n",
      "weighted avg       0.83      0.85      0.83      3000\n",
      "\n",
      "[[2301   97]\n",
      " [ 362  240]]\n"
     ]
    }
   ],
   "source": [
    "rf_classifier = RandomForestClassifier(n_estimators=110, max_depth=14)\n",
    "rf_classifier.fit(X_train,y_train)\n",
    "y_pred = rf_classifier.predict(X_test)\n",
    "acc = accuracy_score(y_test, y_pred)\n",
    "c_m= confusion_matrix(y_test,y_pred)\n",
    "print(\"Validation accuracy = \",np.mean(acc)*100)\n",
    "print(classification_report(y_test,y_pred))\n",
    "print(c_m)"
   ]
  },
  {
   "cell_type": "code",
   "execution_count": 45,
   "metadata": {},
   "outputs": [
    {
     "name": "stdout",
     "output_type": "stream",
     "text": [
      "Validation accuracy = 86.03333333333333\n",
      "Confusion Matrix:\n",
      " [[2333   65]\n",
      " [ 354  248]]\n",
      "Classification Report:\n",
      "               precision    recall  f1-score   support\n",
      "\n",
      "           0       0.87      0.97      0.92      2398\n",
      "           1       0.79      0.41      0.54       602\n",
      "\n",
      "    accuracy                           0.86      3000\n",
      "   macro avg       0.83      0.69      0.73      3000\n",
      "weighted avg       0.85      0.86      0.84      3000\n",
      "\n"
     ]
    }
   ],
   "source": [
    "from xgboost import XGBClassifier\n",
    "xgb_classifier = XGBClassifier(learning_rate=0.1, max_depth=3, n_estimators=62, subsample=1)\n",
    "\n",
    "xgb_classifier.fit(X_train, y_train)\n",
    "\n",
    "y_pred = xgb_classifier.predict(X_test)\n",
    "\n",
    "acc = accuracy_score(y_test, y_pred)\n",
    "c_m = confusion_matrix(y_test, y_pred)\n",
    "\n",
    "print(\"Validation accuracy =\", np.mean(acc) * 100)\n",
    "print(\"Confusion Matrix:\\n\", c_m)\n",
    "print(\"Classification Report:\\n\", classification_report(y_test, y_pred))\n"
   ]
  },
  {
   "cell_type": "markdown",
   "metadata": {},
   "source": [
    "Decided to go with the Neural network."
   ]
  },
  {
   "cell_type": "markdown",
   "metadata": {},
   "source": [
    "The model achieved an accuracy of 85%, successfully identifying 87% of non-churn cases and 46% of churn cases. The confusion matrix indicates 2273 correct non-churn predictions and 276 correct churn predictions out of 3000 instances. The model demonstrates proficiency in recognizing non-churn instances, but its performance is relatively lower in identifying churn instances."
   ]
  }
 ],
 "metadata": {
  "kernelspec": {
   "display_name": "Python 3 (ipykernel)",
   "language": "python",
   "name": "python3"
  },
  "language_info": {
   "codemirror_mode": {
    "name": "ipython",
    "version": 3
   },
   "file_extension": ".py",
   "mimetype": "text/x-python",
   "name": "python",
   "nbconvert_exporter": "python",
   "pygments_lexer": "ipython3",
   "version": "3.11.6"
  }
 },
 "nbformat": 4,
 "nbformat_minor": 4
}
